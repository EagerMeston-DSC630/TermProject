{
 "metadata": {
  "language_info": {
   "codemirror_mode": {
    "name": "ipython",
    "version": 3
   },
   "file_extension": ".py",
   "mimetype": "text/x-python",
   "name": "python",
   "nbconvert_exporter": "python",
   "pygments_lexer": "ipython3",
   "version": "3.8.3-final"
  },
  "orig_nbformat": 2,
  "kernelspec": {
   "name": "python3",
   "display_name": "Python 3"
  }
 },
 "nbformat": 4,
 "nbformat_minor": 2,
 "cells": [
  {
   "cell_type": "code",
   "execution_count": 23,
   "metadata": {},
   "outputs": [],
   "source": [
    "import numpy as np\n",
    "import pandas as pd\n",
    "import dill\n",
    "import matplotlib.pyplot as plt\n",
    "from xgboost import XGBClassifier"
   ]
  },
  {
   "cell_type": "code",
   "execution_count": 24,
   "metadata": {},
   "outputs": [],
   "source": [
    "# load trained models and train/test sets\n",
    "\n",
    "with open(\"model_evaluation/cred_tree.pkl\", \"br\") as pklfile:\n",
    "    pctree = dill.load(pklfile)\n",
    "with open(\"model_evaluation/cred_tree_no_zeros.pkl\", \"br\") as pklfile:\n",
    "    zeroless_pctree = dill.load(pklfile)\n",
    "train = pd.read_pickle(\"data/train.pkl\")\n",
    "test = pd.read_pickle(\"data/test_by_ID.pkl\")\n",
    "zeroless_train = pd.read_pickle(\"data/train_no_zeros.pkl\")\n",
    "zeroless_test = pd.read_pickle(\"data/test_by_ID_no_zeros.pkl\")"
   ]
  },
  {
   "cell_type": "code",
   "execution_count": 25,
   "metadata": {},
   "outputs": [],
   "source": [
    "# get cluster predictions for each test record\n",
    "\n",
    "predictors = [\n",
    "    \"CODE_GENDER\",\n",
    "    \"FLAG_OWN_CAR\",\n",
    "    \"FLAG_OWN_REALTY\",\n",
    "    \"CNT_CHILDREN\",\n",
    "    \"AMT_INCOME_TOTAL\",\n",
    "    \"NAME_INCOME_TYPE\",\n",
    "    \"NAME_EDUCATION_TYPE\",\n",
    "    \"NAME_FAMILY_STATUS\",\n",
    "    \"NAME_HOUSING_TYPE\",\n",
    "    \"DAYS_BIRTH\",\n",
    "    \"DAYS_EMPLOYED\",\n",
    "    \"FLAG_MOBIL\",\n",
    "    \"FLAG_WORK_PHONE\",\n",
    "    \"FLAG_PHONE\",\n",
    "    \"FLAG_EMAIL\",\n",
    "    \"OCCUPATION_TYPE\",\n",
    "    \"CNT_FAM_MEMBERS\"\n",
    "]\n",
    "cluster_preds = pctree.predict(test.loc[:, predictors])\n",
    "zeroless_cluster_preds = zeroless_pctree.predict(zeroless_test.loc[:, predictors])"
   ]
  },
  {
   "cell_type": "code",
   "execution_count": 34,
   "metadata": {},
   "outputs": [],
   "source": [
    "def calculate_pmf(df, idx):\n",
    "    pmf = pd.Series(0, index=idx)\n",
    "    counts = df[\"STATUS\"].value_counts()\n",
    "    pmf[counts.index] = counts / df.shape[0]\n",
    "    return pmf\n",
    "\n",
    "# get predicted pmfs and actual pmfs for test set with zeros\n",
    "pred_pmfs = pd.DataFrame(\n",
    "    [\n",
    "        calculate_pmf(pctree.leaf_nodes_[clust], idx=np.arange(-6,2))\n",
    "        for clust in cluster_preds.loc[:, 0]\n",
    "    ],\n",
    "    index=cluster_preds.index\n",
    ")\n",
    "by_ID = test.groupby(\"ID\")\n",
    "actual_pmfs = by_ID.apply(calculate_pmf, idx=np.arange(-6,2))\n",
    "\n",
    "# get predicted pmfs and actual pmfs for zeroless test set\n",
    "zeroless_pred_pmfs = pd.DataFrame(\n",
    "    [\n",
    "        calculate_pmf(zeroless_pctree.leaf_nodes_[clust], idx=(-6, -5, -4, -3, -2, -1, 1))\n",
    "        for clust in zeroless_cluster_preds.loc[:, 0]\n",
    "    ],\n",
    "    index=zeroless_cluster_preds.index\n",
    ")\n",
    "zeroless_by_ID = zeroless_test.groupby(\"ID\")\n",
    "zeroless_actual_pmfs = zeroless_by_ID.apply(calculate_pmf, idx=(-6,-5,-4,-3,-2,-1,1))"
   ]
  },
  {
   "cell_type": "code",
   "execution_count": 35,
   "metadata": {},
   "outputs": [
    {
     "output_type": "execute_result",
     "data": {
      "text/plain": [
       "((33718, 8), (33718, 8), (29507, 7), (29507, 7))"
      ]
     },
     "metadata": {},
     "execution_count": 35
    }
   ],
   "source": [
    "pred_pmfs.shape, actual_pmfs.shape, zeroless_pred_pmfs.shape, zeroless_actual_pmfs.shape"
   ]
  },
  {
   "cell_type": "code",
   "execution_count": 36,
   "metadata": {},
   "outputs": [
    {
     "output_type": "execute_result",
     "data": {
      "text/plain": [
       "(-6    0.001936\n",
       " -5    0.000261\n",
       " -4    0.000348\n",
       " -3    0.001051\n",
       " -2    0.011283\n",
       " -1    0.374029\n",
       "  0    0.187431\n",
       "  1    0.423662\n",
       " Name: STATUS, dtype: float64,\n",
       " -6    0.002382\n",
       " -5    0.000321\n",
       " -4    0.000428\n",
       " -3    0.001293\n",
       " -2    0.013885\n",
       " -1    0.460305\n",
       "  1    0.521386\n",
       " Name: STATUS, dtype: float64)"
      ]
     },
     "metadata": {},
     "execution_count": 36
    }
   ],
   "source": [
    "nullhypo_pmf = train[\"STATUS\"].value_counts() / train.shape[0]\n",
    "nullhypo_pmf.sort_index(inplace=True)\n",
    "\n",
    "zeroless_nullhypo_pmf = zeroless_train[\"STATUS\"].value_counts() / zeroless_train.shape[0]\n",
    "zeroless_nullhypo_pmf.sort_index(inplace=True) \n",
    "\n",
    "nullhypo_pmf, zeroless_nullhypo_pmf"
   ]
  },
  {
   "cell_type": "code",
   "execution_count": 39,
   "metadata": {},
   "outputs": [
    {
     "output_type": "stream",
     "name": "stdout",
     "text": [
      "Model accuracy prediction at least 50% 1s or 0s:  0.5927397829052732\nNull hypothesis at least 50% 1s or 0s:  0.5257725843762975\n"
     ]
    }
   ],
   "source": [
    "pred_mostly_on_time = (pred_pmfs.loc[:, 1] + pred_pmfs.loc[:, 0]) > 0.5\n",
    "actual_mostly_on_time = (actual_pmfs.loc[:, 1] + actual_pmfs.loc[:, 0]) > 0.5\n",
    "nullhypo_mostly_on_time = (nullhypo_pmf.loc[1] + nullhypo_pmf.loc[0]) > 0.5\n",
    "\n",
    "print(\n",
    "    f\"Model accuracy prediction at least 50% 1s or 0s: \",\n",
    "    (pred_mostly_on_time == actual_mostly_on_time).mean()\n",
    ")\n",
    "print(\n",
    "    f\"Null hypothesis at least 50% 1s or 0s: \",\n",
    "    (nullhypo_mostly_on_time == actual_mostly_on_time).mean()\n",
    ")"
   ]
  },
  {
   "cell_type": "code",
   "execution_count": 68,
   "metadata": {},
   "outputs": [
    {
     "output_type": "stream",
     "name": "stdout",
     "text": [
      "Model Prediction Rates\n--------------------\nTrue positive rate:  0.5776585820895522\nTrue negative rate:  0.6413016270337922\nFalse positive rate:  0.42234141791044777\nFalse negative rate:  0.35869837296620777\n"
     ]
    }
   ],
   "source": [
    "true_pos_rate = (pred_mostly_on_time & actual_mostly_on_time).sum() / pred_mostly_on_time.sum()\n",
    "true_neg_rate = (~pred_mostly_on_time & ~actual_mostly_on_time).sum() / (~pred_mostly_on_time).sum()\n",
    "false_pos_rate = (pred_mostly_on_time & ~actual_mostly_on_time).sum() / pred_mostly_on_time.sum()\n",
    "false_neg_rate = (~pred_mostly_on_time & actual_mostly_on_time).sum() / (~pred_mostly_on_time).sum()\n",
    "\n",
    "print(\"Model Prediction Rates\")\n",
    "print(\"--------------------\")\n",
    "print(\"True positive rate: \", true_pos_rate)\n",
    "print(\"True negative rate: \", true_neg_rate)\n",
    "print(\"False positive rate: \", false_pos_rate)\n",
    "print(\"False negative rate: \", false_neg_rate)"
   ]
  },
  {
   "cell_type": "code",
   "execution_count": 69,
   "metadata": {},
   "outputs": [
    {
     "output_type": "stream",
     "name": "stdout",
     "text": [
      "Null Hypothesis Accuracy Rates\n------------------------------\nTrue positive rate:  0.5257725843762975\nTrue negative rate:  0.0\nFalse positive rate:  0.47422741562370246\nFalse negative rate:  0.0\n"
     ]
    }
   ],
   "source": [
    "nullhypo_true_pos_rate = (nullhypo_mostly_on_time & actual_mostly_on_time).mean()\n",
    "nullhypo_true_neg_rate = (~nullhypo_mostly_on_time & ~actual_mostly_on_time).mean()\n",
    "nullhypo_false_pos_rate = (nullhypo_mostly_on_time & ~actual_mostly_on_time).mean()\n",
    "nullhypo_false_neg_rate = (~nullhypo_mostly_on_time & actual_mostly_on_time).mean()\n",
    "\n",
    "print(\"Null Hypothesis Accuracy Rates\")\n",
    "print(\"------------------------------\")\n",
    "print(\"True positive rate: \", nullhypo_true_pos_rate)\n",
    "print(\"True negative rate: \", nullhypo_true_neg_rate)\n",
    "print(\"False positive rate: \", nullhypo_false_pos_rate)\n",
    "print(\"False negative rate: \", nullhypo_false_neg_rate)"
   ]
  },
  {
   "cell_type": "code",
   "execution_count": 50,
   "metadata": {},
   "outputs": [
    {
     "output_type": "stream",
     "name": "stdout",
     "text": [
      "Zeroless model accuracy predicting at least 50% 1s:  0.6156166333412411\nZeroless null hypothesis at least 50% 1s or 0s:  0.389873589317789\n"
     ]
    }
   ],
   "source": [
    "zeroless_pred_mostly_on_time = zeroless_pred_pmfs.loc[:, 1] > 0.5\n",
    "zeroless_actual_mostly_on_time = zeroless_actual_pmfs.loc[:, 1] > 0.5\n",
    "zeroless_nullhypo_mostly_on_time = zeroless_nullhypo_pmf.loc[1] > 0.5\n",
    "\n",
    "print(\n",
    "    f\"Zeroless model accuracy predicting at least 50% 1s: \",\n",
    "    (zeroless_pred_mostly_on_time == zeroless_actual_mostly_on_time).mean()\n",
    ")\n",
    "print(\n",
    "    f\"Zeroless null hypothesis at least 50% 1s or 0s: \",\n",
    "    (zeroless_nullhypo_mostly_on_time == zeroless_actual_mostly_on_time).mean()\n",
    ")"
   ]
  },
  {
   "cell_type": "code",
   "execution_count": 70,
   "metadata": {},
   "outputs": [
    {
     "output_type": "stream",
     "name": "stdout",
     "text": [
      "Zeroless Model Accuracy Rates\n------------------------------\nTrue positive rate:  0.5054803788903924\nTrue negative rate:  0.7261492496774632\nFalse positive rate:  0.49451962110960757\nFalse negative rate:  0.27385075032253686\n"
     ]
    }
   ],
   "source": [
    "zeroless_true_pos_rate = (zeroless_pred_mostly_on_time & zeroless_actual_mostly_on_time).sum() / zeroless_pred_mostly_on_time.sum()\n",
    "zeroless_true_neg_rate = (~zeroless_pred_mostly_on_time & ~zeroless_actual_mostly_on_time).sum() / (~zeroless_pred_mostly_on_time).sum()\n",
    "zeroless_false_pos_rate = (zeroless_pred_mostly_on_time & ~zeroless_actual_mostly_on_time).sum() / zeroless_pred_mostly_on_time.sum()\n",
    "zeroless_false_neg_rate = (~zeroless_pred_mostly_on_time & zeroless_actual_mostly_on_time).sum() / (~zeroless_pred_mostly_on_time).sum()\n",
    "\n",
    "print(\"Zeroless Model Accuracy Rates\")\n",
    "print(\"------------------------------\")\n",
    "print(\"True positive rate: \", zeroless_true_pos_rate)\n",
    "print(\"True negative rate: \", zeroless_true_neg_rate)\n",
    "print(\"False positive rate: \", zeroless_false_pos_rate)\n",
    "print(\"False negative rate: \", zeroless_false_neg_rate)"
   ]
  },
  {
   "cell_type": "code",
   "execution_count": 66,
   "metadata": {},
   "outputs": [
    {
     "output_type": "stream",
     "name": "stdout",
     "text": [
      "Null Hypothesis Accuracy Rates\n------------------------------\nTrue positive rate:  0.389873589317789\nTrue negative rate:  0.0\nFalse positive rate:  0.610126410682211\nFalse negative rate:  0.0\n"
     ]
    }
   ],
   "source": [
    "zeroless_nullhypo_true_pos_rate = (zeroless_nullhypo_mostly_on_time & zeroless_actual_mostly_on_time).mean()\n",
    "zeroless_nullhypo_true_neg_rate = (~zeroless_nullhypo_mostly_on_time & ~zeroless_actual_mostly_on_time).mean()\n",
    "zeroless_nullhypo_false_pos_rate = (zeroless_nullhypo_mostly_on_time & ~zeroless_actual_mostly_on_time).mean()\n",
    "zeroless_nullhypo_false_neg_rate = (~zeroless_nullhypo_mostly_on_time & zeroless_actual_mostly_on_time).mean()\n",
    "\n",
    "print(\"Null Hypothesis Accuracy Rates\")\n",
    "print(\"------------------------------\")\n",
    "print(\"True positive rate: \", zeroless_nullhypo_true_pos_rate)\n",
    "print(\"True negative rate: \", zeroless_nullhypo_true_neg_rate)\n",
    "print(\"False positive rate: \", zeroless_nullhypo_false_pos_rate)\n",
    "print(\"False negative rate: \", zeroless_nullhypo_false_neg_rate)"
   ]
  },
  {
   "cell_type": "code",
   "execution_count": null,
   "metadata": {},
   "outputs": [],
   "source": []
  }
 ]
}