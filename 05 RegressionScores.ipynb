{
 "cells": [
  {
   "cell_type": "code",
   "execution_count": 2,
   "metadata": {},
   "outputs": [],
   "source": [
    "import pandas as pd\n",
    "import statsmodels.api as sm\n",
    "import statsmodels.formula.api as smf"
   ]
  },
  {
   "cell_type": "code",
   "execution_count": 3,
   "metadata": {},
   "outputs": [
    {
     "output_type": "execute_result",
     "data": {
      "text/plain": [
       "            ID CODE_GENDER FLAG_OWN_CAR FLAG_OWN_REALTY  CNT_CHILDREN  \\\n",
       "0      5008804           M            Y               Y             0   \n",
       "1      5008805           M            Y               Y             0   \n",
       "2      5008806           M            Y               Y             0   \n",
       "3      5008808           F            N               Y             0   \n",
       "4      5008809           F            N               Y             0   \n",
       "...        ...         ...          ...             ...           ...   \n",
       "36452  5150482           F            Y               Y             1   \n",
       "36453  5150483           F            Y               Y             1   \n",
       "36454  5150484           F            Y               Y             1   \n",
       "36455  5150485           F            Y               Y             1   \n",
       "36456  5150487           M            Y               N             0   \n",
       "\n",
       "       AMT_INCOME_TOTAL      NAME_INCOME_TYPE            NAME_EDUCATION_TYPE  \\\n",
       "0              427500.0               Working               Higher education   \n",
       "1              427500.0               Working               Higher education   \n",
       "2              112500.0               Working  Secondary / secondary special   \n",
       "3              270000.0  Commercial associate  Secondary / secondary special   \n",
       "4              270000.0  Commercial associate  Secondary / secondary special   \n",
       "...                 ...                   ...                            ...   \n",
       "36452          157500.0               Working  Secondary / secondary special   \n",
       "36453          157500.0               Working  Secondary / secondary special   \n",
       "36454          157500.0               Working  Secondary / secondary special   \n",
       "36455          157500.0               Working  Secondary / secondary special   \n",
       "36456          202500.0               Working  Secondary / secondary special   \n",
       "\n",
       "         NAME_FAMILY_STATUS  NAME_HOUSING_TYPE  ...   NORM_SUM    LOG_SUM  \\\n",
       "0            Civil marriage   Rented apartment  ...   9.366667   6.442410   \n",
       "1            Civil marriage   Rented apartment  ...   8.516667   6.015821   \n",
       "2                   Married  House / apartment  ...   1.533333   2.620519   \n",
       "3      Single / not married  House / apartment  ...  -1.966667  -1.731676   \n",
       "4      Single / not married  House / apartment  ...   0.000000   0.000000   \n",
       "...                     ...                ...  ...        ...        ...   \n",
       "36452               Married  House / apartment  ...  -2.850000  -0.687990   \n",
       "36453               Married  House / apartment  ...   0.000000   0.000000   \n",
       "36454               Married  House / apartment  ...  -9.700000  -5.491874   \n",
       "36455               Married  House / apartment  ...  -1.983333  -1.830706   \n",
       "36456               Married  House / apartment  ...  22.750000  11.765522   \n",
       "\n",
       "       NORM_MEAN  LOG_MEAN  MIN_MAX_LOG_SUM  MIN_MAX_LOG_MEAN  \\\n",
       "0       0.585417  0.402651         8.213537          0.513346   \n",
       "1       0.567778  0.401055         7.875889          0.525059   \n",
       "2       0.051111  0.087351        10.459093          0.348636   \n",
       "3      -0.393333 -0.346335         3.036080          0.607216   \n",
       "4       0.000000  0.000000         0.918068          0.183614   \n",
       "...          ...       ...              ...               ...   \n",
       "36452  -0.158333 -0.038222         4.076842          0.226491   \n",
       "36453   0.000000  0.000000         7.809258          0.433848   \n",
       "36454  -0.746154 -0.422452         5.637053          0.433619   \n",
       "36455  -0.991667 -0.915353         1.307647          0.653824   \n",
       "36456   0.758333  0.392184        11.765522          0.392184   \n",
       "\n",
       "      MIN_MAX_NORM_SUM  MIN_MAX_NORM_MEAN  MIN_MAX_SUM  MIN_MAX_MEAN  \n",
       "0            13.338095           0.833631     0.633333      0.633333  \n",
       "1            12.573810           0.838254     0.483333      0.483333  \n",
       "2            19.719048           0.657302    -1.533333     -1.533333  \n",
       "3             3.861905           0.772381    -0.033333     -0.033333  \n",
       "4             2.571429           0.514286     0.000000      0.000000  \n",
       "...                ...                ...          ...           ...  \n",
       "36452        10.007143           0.555952    -3.150000     -3.150000  \n",
       "36453        13.242857           0.735714     0.000000      0.000000  \n",
       "36454         8.642857           0.664835    -1.300000     -1.300000  \n",
       "36455         1.416667           0.708333    -0.016667     -0.016667  \n",
       "36456        22.750000           0.758333     7.250000      7.250000  \n",
       "\n",
       "[36457 rows x 29 columns]"
      ],
      "text/html": "<div>\n<style scoped>\n    .dataframe tbody tr th:only-of-type {\n        vertical-align: middle;\n    }\n\n    .dataframe tbody tr th {\n        vertical-align: top;\n    }\n\n    .dataframe thead th {\n        text-align: right;\n    }\n</style>\n<table border=\"1\" class=\"dataframe\">\n  <thead>\n    <tr style=\"text-align: right;\">\n      <th></th>\n      <th>ID</th>\n      <th>CODE_GENDER</th>\n      <th>FLAG_OWN_CAR</th>\n      <th>FLAG_OWN_REALTY</th>\n      <th>CNT_CHILDREN</th>\n      <th>AMT_INCOME_TOTAL</th>\n      <th>NAME_INCOME_TYPE</th>\n      <th>NAME_EDUCATION_TYPE</th>\n      <th>NAME_FAMILY_STATUS</th>\n      <th>NAME_HOUSING_TYPE</th>\n      <th>...</th>\n      <th>NORM_SUM</th>\n      <th>LOG_SUM</th>\n      <th>NORM_MEAN</th>\n      <th>LOG_MEAN</th>\n      <th>MIN_MAX_LOG_SUM</th>\n      <th>MIN_MAX_LOG_MEAN</th>\n      <th>MIN_MAX_NORM_SUM</th>\n      <th>MIN_MAX_NORM_MEAN</th>\n      <th>MIN_MAX_SUM</th>\n      <th>MIN_MAX_MEAN</th>\n    </tr>\n  </thead>\n  <tbody>\n    <tr>\n      <th>0</th>\n      <td>5008804</td>\n      <td>M</td>\n      <td>Y</td>\n      <td>Y</td>\n      <td>0</td>\n      <td>427500.0</td>\n      <td>Working</td>\n      <td>Higher education</td>\n      <td>Civil marriage</td>\n      <td>Rented apartment</td>\n      <td>...</td>\n      <td>9.366667</td>\n      <td>6.442410</td>\n      <td>0.585417</td>\n      <td>0.402651</td>\n      <td>8.213537</td>\n      <td>0.513346</td>\n      <td>13.338095</td>\n      <td>0.833631</td>\n      <td>0.633333</td>\n      <td>0.633333</td>\n    </tr>\n    <tr>\n      <th>1</th>\n      <td>5008805</td>\n      <td>M</td>\n      <td>Y</td>\n      <td>Y</td>\n      <td>0</td>\n      <td>427500.0</td>\n      <td>Working</td>\n      <td>Higher education</td>\n      <td>Civil marriage</td>\n      <td>Rented apartment</td>\n      <td>...</td>\n      <td>8.516667</td>\n      <td>6.015821</td>\n      <td>0.567778</td>\n      <td>0.401055</td>\n      <td>7.875889</td>\n      <td>0.525059</td>\n      <td>12.573810</td>\n      <td>0.838254</td>\n      <td>0.483333</td>\n      <td>0.483333</td>\n    </tr>\n    <tr>\n      <th>2</th>\n      <td>5008806</td>\n      <td>M</td>\n      <td>Y</td>\n      <td>Y</td>\n      <td>0</td>\n      <td>112500.0</td>\n      <td>Working</td>\n      <td>Secondary / secondary special</td>\n      <td>Married</td>\n      <td>House / apartment</td>\n      <td>...</td>\n      <td>1.533333</td>\n      <td>2.620519</td>\n      <td>0.051111</td>\n      <td>0.087351</td>\n      <td>10.459093</td>\n      <td>0.348636</td>\n      <td>19.719048</td>\n      <td>0.657302</td>\n      <td>-1.533333</td>\n      <td>-1.533333</td>\n    </tr>\n    <tr>\n      <th>3</th>\n      <td>5008808</td>\n      <td>F</td>\n      <td>N</td>\n      <td>Y</td>\n      <td>0</td>\n      <td>270000.0</td>\n      <td>Commercial associate</td>\n      <td>Secondary / secondary special</td>\n      <td>Single / not married</td>\n      <td>House / apartment</td>\n      <td>...</td>\n      <td>-1.966667</td>\n      <td>-1.731676</td>\n      <td>-0.393333</td>\n      <td>-0.346335</td>\n      <td>3.036080</td>\n      <td>0.607216</td>\n      <td>3.861905</td>\n      <td>0.772381</td>\n      <td>-0.033333</td>\n      <td>-0.033333</td>\n    </tr>\n    <tr>\n      <th>4</th>\n      <td>5008809</td>\n      <td>F</td>\n      <td>N</td>\n      <td>Y</td>\n      <td>0</td>\n      <td>270000.0</td>\n      <td>Commercial associate</td>\n      <td>Secondary / secondary special</td>\n      <td>Single / not married</td>\n      <td>House / apartment</td>\n      <td>...</td>\n      <td>0.000000</td>\n      <td>0.000000</td>\n      <td>0.000000</td>\n      <td>0.000000</td>\n      <td>0.918068</td>\n      <td>0.183614</td>\n      <td>2.571429</td>\n      <td>0.514286</td>\n      <td>0.000000</td>\n      <td>0.000000</td>\n    </tr>\n    <tr>\n      <th>...</th>\n      <td>...</td>\n      <td>...</td>\n      <td>...</td>\n      <td>...</td>\n      <td>...</td>\n      <td>...</td>\n      <td>...</td>\n      <td>...</td>\n      <td>...</td>\n      <td>...</td>\n      <td>...</td>\n      <td>...</td>\n      <td>...</td>\n      <td>...</td>\n      <td>...</td>\n      <td>...</td>\n      <td>...</td>\n      <td>...</td>\n      <td>...</td>\n      <td>...</td>\n      <td>...</td>\n    </tr>\n    <tr>\n      <th>36452</th>\n      <td>5150482</td>\n      <td>F</td>\n      <td>Y</td>\n      <td>Y</td>\n      <td>1</td>\n      <td>157500.0</td>\n      <td>Working</td>\n      <td>Secondary / secondary special</td>\n      <td>Married</td>\n      <td>House / apartment</td>\n      <td>...</td>\n      <td>-2.850000</td>\n      <td>-0.687990</td>\n      <td>-0.158333</td>\n      <td>-0.038222</td>\n      <td>4.076842</td>\n      <td>0.226491</td>\n      <td>10.007143</td>\n      <td>0.555952</td>\n      <td>-3.150000</td>\n      <td>-3.150000</td>\n    </tr>\n    <tr>\n      <th>36453</th>\n      <td>5150483</td>\n      <td>F</td>\n      <td>Y</td>\n      <td>Y</td>\n      <td>1</td>\n      <td>157500.0</td>\n      <td>Working</td>\n      <td>Secondary / secondary special</td>\n      <td>Married</td>\n      <td>House / apartment</td>\n      <td>...</td>\n      <td>0.000000</td>\n      <td>0.000000</td>\n      <td>0.000000</td>\n      <td>0.000000</td>\n      <td>7.809258</td>\n      <td>0.433848</td>\n      <td>13.242857</td>\n      <td>0.735714</td>\n      <td>0.000000</td>\n      <td>0.000000</td>\n    </tr>\n    <tr>\n      <th>36454</th>\n      <td>5150484</td>\n      <td>F</td>\n      <td>Y</td>\n      <td>Y</td>\n      <td>1</td>\n      <td>157500.0</td>\n      <td>Working</td>\n      <td>Secondary / secondary special</td>\n      <td>Married</td>\n      <td>House / apartment</td>\n      <td>...</td>\n      <td>-9.700000</td>\n      <td>-5.491874</td>\n      <td>-0.746154</td>\n      <td>-0.422452</td>\n      <td>5.637053</td>\n      <td>0.433619</td>\n      <td>8.642857</td>\n      <td>0.664835</td>\n      <td>-1.300000</td>\n      <td>-1.300000</td>\n    </tr>\n    <tr>\n      <th>36455</th>\n      <td>5150485</td>\n      <td>F</td>\n      <td>Y</td>\n      <td>Y</td>\n      <td>1</td>\n      <td>157500.0</td>\n      <td>Working</td>\n      <td>Secondary / secondary special</td>\n      <td>Married</td>\n      <td>House / apartment</td>\n      <td>...</td>\n      <td>-1.983333</td>\n      <td>-1.830706</td>\n      <td>-0.991667</td>\n      <td>-0.915353</td>\n      <td>1.307647</td>\n      <td>0.653824</td>\n      <td>1.416667</td>\n      <td>0.708333</td>\n      <td>-0.016667</td>\n      <td>-0.016667</td>\n    </tr>\n    <tr>\n      <th>36456</th>\n      <td>5150487</td>\n      <td>M</td>\n      <td>Y</td>\n      <td>N</td>\n      <td>0</td>\n      <td>202500.0</td>\n      <td>Working</td>\n      <td>Secondary / secondary special</td>\n      <td>Married</td>\n      <td>House / apartment</td>\n      <td>...</td>\n      <td>22.750000</td>\n      <td>11.765522</td>\n      <td>0.758333</td>\n      <td>0.392184</td>\n      <td>11.765522</td>\n      <td>0.392184</td>\n      <td>22.750000</td>\n      <td>0.758333</td>\n      <td>7.250000</td>\n      <td>7.250000</td>\n    </tr>\n  </tbody>\n</table>\n<p>36457 rows × 29 columns</p>\n</div>"
     },
     "metadata": {},
     "execution_count": 3
    }
   ],
   "source": [
    "dat = pd.read_csv(\"train_test_set2.csv\")\n",
    "dat"
   ]
  },
  {
   "cell_type": "code",
   "execution_count": 4,
   "metadata": {},
   "outputs": [
    {
     "output_type": "execute_result",
     "data": {
      "text/plain": [
       "                 ID  CNT_CHILDREN  AMT_INCOME_TOTAL    DAYS_BIRTH  \\\n",
       "count  3.645700e+04  36457.000000      3.645700e+04  36457.000000   \n",
       "mean   5.078227e+06      0.430315      1.866857e+05 -15975.173382   \n",
       "std    4.187524e+04      0.742367      1.017892e+05   4200.549944   \n",
       "min    5.008804e+06      0.000000      2.700000e+04 -25152.000000   \n",
       "25%    5.042028e+06      0.000000      1.215000e+05 -19438.000000   \n",
       "50%    5.074614e+06      0.000000      1.575000e+05 -15563.000000   \n",
       "75%    5.115396e+06      1.000000      2.250000e+05 -12462.000000   \n",
       "max    5.150487e+06     19.000000      1.575000e+06  -7489.000000   \n",
       "\n",
       "       DAYS_EMPLOYED  CNT_FAM_MEMBERS           AGE      NORM_SUM  \\\n",
       "count   36457.000000     36457.000000  36457.000000  36457.000000   \n",
       "mean    59262.935568         2.198453     43.767598      0.967778   \n",
       "std    137651.334859         0.911686     11.508356     12.268308   \n",
       "min    -15713.000000         1.000000     20.517808   -175.333333   \n",
       "25%     -3153.000000         2.000000     34.142466     -5.750000   \n",
       "50%     -1552.000000         2.000000     42.638356     -0.500000   \n",
       "75%      -408.000000         3.000000     53.254795      7.416667   \n",
       "max    365243.000000        20.000000     68.909589     30.483333   \n",
       "\n",
       "            LOG_SUM     NORM_MEAN      LOG_MEAN  MIN_MAX_LOG_SUM  \\\n",
       "count  36457.000000  36457.000000  36457.000000     36457.000000   \n",
       "mean       0.725175     -0.139444     -0.083019         6.446589   \n",
       "std        6.476973      0.535796      0.352065         4.060390   \n",
       "min      -81.836797     -4.762500     -3.222740        -0.003460   \n",
       "25%       -3.092237     -0.580556     -0.290258         2.879076   \n",
       "50%        0.000000     -0.041228      0.000000         6.047942   \n",
       "75%        4.917820      0.333750      0.204587         9.861251   \n",
       "max       13.929580      1.000000      1.000000        13.929580   \n",
       "\n",
       "       MIN_MAX_LOG_MEAN  MIN_MAX_NORM_SUM  MIN_MAX_NORM_MEAN   MIN_MAX_SUM  \\\n",
       "count      36457.000000      36457.000000       36457.000000  36457.000000   \n",
       "mean           0.349238         12.519098           0.608679     -0.759066   \n",
       "std            0.166806          8.465632           0.164225      5.805334   \n",
       "min           -0.002884          0.000000           0.000000   -120.666667   \n",
       "25%            0.234951          5.221429           0.527847     -2.150000   \n",
       "50%            0.342955         10.933333           0.647024     -0.350000   \n",
       "75%            0.464061         19.140476           0.714286      0.016667   \n",
       "max            1.000000         30.497619           1.000000     28.516667   \n",
       "\n",
       "       MIN_MAX_MEAN  \n",
       "count  36457.000000  \n",
       "mean      -0.759066  \n",
       "std        5.805334  \n",
       "min     -120.666667  \n",
       "25%       -2.150000  \n",
       "50%       -0.350000  \n",
       "75%        0.016667  \n",
       "max       28.516667  "
      ],
      "text/html": "<div>\n<style scoped>\n    .dataframe tbody tr th:only-of-type {\n        vertical-align: middle;\n    }\n\n    .dataframe tbody tr th {\n        vertical-align: top;\n    }\n\n    .dataframe thead th {\n        text-align: right;\n    }\n</style>\n<table border=\"1\" class=\"dataframe\">\n  <thead>\n    <tr style=\"text-align: right;\">\n      <th></th>\n      <th>ID</th>\n      <th>CNT_CHILDREN</th>\n      <th>AMT_INCOME_TOTAL</th>\n      <th>DAYS_BIRTH</th>\n      <th>DAYS_EMPLOYED</th>\n      <th>CNT_FAM_MEMBERS</th>\n      <th>AGE</th>\n      <th>NORM_SUM</th>\n      <th>LOG_SUM</th>\n      <th>NORM_MEAN</th>\n      <th>LOG_MEAN</th>\n      <th>MIN_MAX_LOG_SUM</th>\n      <th>MIN_MAX_LOG_MEAN</th>\n      <th>MIN_MAX_NORM_SUM</th>\n      <th>MIN_MAX_NORM_MEAN</th>\n      <th>MIN_MAX_SUM</th>\n      <th>MIN_MAX_MEAN</th>\n    </tr>\n  </thead>\n  <tbody>\n    <tr>\n      <th>count</th>\n      <td>3.645700e+04</td>\n      <td>36457.000000</td>\n      <td>3.645700e+04</td>\n      <td>36457.000000</td>\n      <td>36457.000000</td>\n      <td>36457.000000</td>\n      <td>36457.000000</td>\n      <td>36457.000000</td>\n      <td>36457.000000</td>\n      <td>36457.000000</td>\n      <td>36457.000000</td>\n      <td>36457.000000</td>\n      <td>36457.000000</td>\n      <td>36457.000000</td>\n      <td>36457.000000</td>\n      <td>36457.000000</td>\n      <td>36457.000000</td>\n    </tr>\n    <tr>\n      <th>mean</th>\n      <td>5.078227e+06</td>\n      <td>0.430315</td>\n      <td>1.866857e+05</td>\n      <td>-15975.173382</td>\n      <td>59262.935568</td>\n      <td>2.198453</td>\n      <td>43.767598</td>\n      <td>0.967778</td>\n      <td>0.725175</td>\n      <td>-0.139444</td>\n      <td>-0.083019</td>\n      <td>6.446589</td>\n      <td>0.349238</td>\n      <td>12.519098</td>\n      <td>0.608679</td>\n      <td>-0.759066</td>\n      <td>-0.759066</td>\n    </tr>\n    <tr>\n      <th>std</th>\n      <td>4.187524e+04</td>\n      <td>0.742367</td>\n      <td>1.017892e+05</td>\n      <td>4200.549944</td>\n      <td>137651.334859</td>\n      <td>0.911686</td>\n      <td>11.508356</td>\n      <td>12.268308</td>\n      <td>6.476973</td>\n      <td>0.535796</td>\n      <td>0.352065</td>\n      <td>4.060390</td>\n      <td>0.166806</td>\n      <td>8.465632</td>\n      <td>0.164225</td>\n      <td>5.805334</td>\n      <td>5.805334</td>\n    </tr>\n    <tr>\n      <th>min</th>\n      <td>5.008804e+06</td>\n      <td>0.000000</td>\n      <td>2.700000e+04</td>\n      <td>-25152.000000</td>\n      <td>-15713.000000</td>\n      <td>1.000000</td>\n      <td>20.517808</td>\n      <td>-175.333333</td>\n      <td>-81.836797</td>\n      <td>-4.762500</td>\n      <td>-3.222740</td>\n      <td>-0.003460</td>\n      <td>-0.002884</td>\n      <td>0.000000</td>\n      <td>0.000000</td>\n      <td>-120.666667</td>\n      <td>-120.666667</td>\n    </tr>\n    <tr>\n      <th>25%</th>\n      <td>5.042028e+06</td>\n      <td>0.000000</td>\n      <td>1.215000e+05</td>\n      <td>-19438.000000</td>\n      <td>-3153.000000</td>\n      <td>2.000000</td>\n      <td>34.142466</td>\n      <td>-5.750000</td>\n      <td>-3.092237</td>\n      <td>-0.580556</td>\n      <td>-0.290258</td>\n      <td>2.879076</td>\n      <td>0.234951</td>\n      <td>5.221429</td>\n      <td>0.527847</td>\n      <td>-2.150000</td>\n      <td>-2.150000</td>\n    </tr>\n    <tr>\n      <th>50%</th>\n      <td>5.074614e+06</td>\n      <td>0.000000</td>\n      <td>1.575000e+05</td>\n      <td>-15563.000000</td>\n      <td>-1552.000000</td>\n      <td>2.000000</td>\n      <td>42.638356</td>\n      <td>-0.500000</td>\n      <td>0.000000</td>\n      <td>-0.041228</td>\n      <td>0.000000</td>\n      <td>6.047942</td>\n      <td>0.342955</td>\n      <td>10.933333</td>\n      <td>0.647024</td>\n      <td>-0.350000</td>\n      <td>-0.350000</td>\n    </tr>\n    <tr>\n      <th>75%</th>\n      <td>5.115396e+06</td>\n      <td>1.000000</td>\n      <td>2.250000e+05</td>\n      <td>-12462.000000</td>\n      <td>-408.000000</td>\n      <td>3.000000</td>\n      <td>53.254795</td>\n      <td>7.416667</td>\n      <td>4.917820</td>\n      <td>0.333750</td>\n      <td>0.204587</td>\n      <td>9.861251</td>\n      <td>0.464061</td>\n      <td>19.140476</td>\n      <td>0.714286</td>\n      <td>0.016667</td>\n      <td>0.016667</td>\n    </tr>\n    <tr>\n      <th>max</th>\n      <td>5.150487e+06</td>\n      <td>19.000000</td>\n      <td>1.575000e+06</td>\n      <td>-7489.000000</td>\n      <td>365243.000000</td>\n      <td>20.000000</td>\n      <td>68.909589</td>\n      <td>30.483333</td>\n      <td>13.929580</td>\n      <td>1.000000</td>\n      <td>1.000000</td>\n      <td>13.929580</td>\n      <td>1.000000</td>\n      <td>30.497619</td>\n      <td>1.000000</td>\n      <td>28.516667</td>\n      <td>28.516667</td>\n    </tr>\n  </tbody>\n</table>\n</div>"
     },
     "metadata": {},
     "execution_count": 4
    }
   ],
   "source": [
    "dat.describe()"
   ]
  },
  {
   "cell_type": "code",
   "execution_count": 5,
   "metadata": {},
   "outputs": [
    {
     "output_type": "execute_result",
     "data": {
      "text/plain": [
       "<class 'statsmodels.iolib.summary.Summary'>\n",
       "\"\"\"\n",
       "                            OLS Regression Results                            \n",
       "==============================================================================\n",
       "Dep. Variable:               NORM_SUM   R-squared:                       0.000\n",
       "Model:                            OLS   Adj. R-squared:                  0.000\n",
       "Method:                 Least Squares   F-statistic:                     1.611\n",
       "Date:                Tue, 06 Oct 2020   Prob (F-statistic):              0.204\n",
       "Time:                        23:03:16   Log-Likelihood:            -1.4313e+05\n",
       "No. Observations:               36457   AIC:                         2.863e+05\n",
       "Df Residuals:                   36455   BIC:                         2.863e+05\n",
       "Df Model:                           1                                         \n",
       "Covariance Type:            nonrobust                                         \n",
       "=================================================================================\n",
       "                    coef    std err          t      P>|t|      [0.025      0.975]\n",
       "---------------------------------------------------------------------------------\n",
       "Intercept         0.9327      0.070     13.332      0.000       0.796       1.070\n",
       "DAYS_EMPLOYED  5.925e-07   4.67e-07      1.269      0.204   -3.22e-07    1.51e-06\n",
       "==============================================================================\n",
       "Omnibus:                     9526.477   Durbin-Watson:                   1.597\n",
       "Prob(Omnibus):                  0.000   Jarque-Bera (JB):           211180.488\n",
       "Skew:                          -0.730   Prob(JB):                         0.00\n",
       "Kurtosis:                      14.700   Cond. No.                     1.63e+05\n",
       "==============================================================================\n",
       "\n",
       "Warnings:\n",
       "[1] Standard Errors assume that the covariance matrix of the errors is correctly specified.\n",
       "[2] The condition number is large, 1.63e+05. This might indicate that there are\n",
       "strong multicollinearity or other numerical problems.\n",
       "\"\"\""
      ],
      "text/html": "<table class=\"simpletable\">\n<caption>OLS Regression Results</caption>\n<tr>\n  <th>Dep. Variable:</th>        <td>NORM_SUM</td>     <th>  R-squared:         </th>  <td>   0.000</td>  \n</tr>\n<tr>\n  <th>Model:</th>                   <td>OLS</td>       <th>  Adj. R-squared:    </th>  <td>   0.000</td>  \n</tr>\n<tr>\n  <th>Method:</th>             <td>Least Squares</td>  <th>  F-statistic:       </th>  <td>   1.611</td>  \n</tr>\n<tr>\n  <th>Date:</th>             <td>Tue, 06 Oct 2020</td> <th>  Prob (F-statistic):</th>   <td> 0.204</td>   \n</tr>\n<tr>\n  <th>Time:</th>                 <td>23:03:16</td>     <th>  Log-Likelihood:    </th> <td>-1.4313e+05</td>\n</tr>\n<tr>\n  <th>No. Observations:</th>      <td> 36457</td>      <th>  AIC:               </th>  <td>2.863e+05</td> \n</tr>\n<tr>\n  <th>Df Residuals:</th>          <td> 36455</td>      <th>  BIC:               </th>  <td>2.863e+05</td> \n</tr>\n<tr>\n  <th>Df Model:</th>              <td>     1</td>      <th>                     </th>      <td> </td>     \n</tr>\n<tr>\n  <th>Covariance Type:</th>      <td>nonrobust</td>    <th>                     </th>      <td> </td>     \n</tr>\n</table>\n<table class=\"simpletable\">\n<tr>\n        <td></td>           <th>coef</th>     <th>std err</th>      <th>t</th>      <th>P>|t|</th>  <th>[0.025</th>    <th>0.975]</th>  \n</tr>\n<tr>\n  <th>Intercept</th>     <td>    0.9327</td> <td>    0.070</td> <td>   13.332</td> <td> 0.000</td> <td>    0.796</td> <td>    1.070</td>\n</tr>\n<tr>\n  <th>DAYS_EMPLOYED</th> <td> 5.925e-07</td> <td> 4.67e-07</td> <td>    1.269</td> <td> 0.204</td> <td>-3.22e-07</td> <td> 1.51e-06</td>\n</tr>\n</table>\n<table class=\"simpletable\">\n<tr>\n  <th>Omnibus:</th>       <td>9526.477</td> <th>  Durbin-Watson:     </th>  <td>   1.597</td> \n</tr>\n<tr>\n  <th>Prob(Omnibus):</th>  <td> 0.000</td>  <th>  Jarque-Bera (JB):  </th> <td>211180.488</td>\n</tr>\n<tr>\n  <th>Skew:</th>           <td>-0.730</td>  <th>  Prob(JB):          </th>  <td>    0.00</td> \n</tr>\n<tr>\n  <th>Kurtosis:</th>       <td>14.700</td>  <th>  Cond. No.          </th>  <td>1.63e+05</td> \n</tr>\n</table><br/><br/>Warnings:<br/>[1] Standard Errors assume that the covariance matrix of the errors is correctly specified.<br/>[2] The condition number is large, 1.63e+05. This might indicate that there are<br/>strong multicollinearity or other numerical problems."
     },
     "metadata": {},
     "execution_count": 5
    }
   ],
   "source": [
    "res = smf.ols(\"NORM_SUM ~ DAYS_EMPLOYED\", dat).fit()\n",
    "res.summary()"
   ]
  },
  {
   "cell_type": "code",
   "execution_count": 49,
   "metadata": {},
   "outputs": [],
   "source": [
    "from sklearn.tree import DecisionTreeClassifier, DecisionTreeRegressor, export_text\n",
    "from sklearn.model_selection import train_test_split\n",
    "import numpy as np"
   ]
  },
  {
   "cell_type": "code",
   "execution_count": 27,
   "metadata": {},
   "outputs": [],
   "source": [
    "predictors = [\n",
    "    \"CODE_GENDER\",\n",
    "    \"FLAG_OWN_CAR\",\n",
    "    \"FLAG_OWN_REALTY\",\n",
    "    \"CNT_CHILDREN\",\n",
    "    \"AMT_INCOME_TOTAL\",\n",
    "    \"NAME_INCOME_TYPE\",\n",
    "    \"NAME_EDUCATION_TYPE\",\n",
    "    \"NAME_FAMILY_STATUS\",\n",
    "    \"NAME_HOUSING_TYPE\",\n",
    "    \"DAYS_BIRTH\",\n",
    "    \"DAYS_EMPLOYED\",\n",
    "    \"FLAG_MOBIL\",\n",
    "    \"FLAG_WORK_PHONE\",\n",
    "    \"FLAG_PHONE\",\n",
    "    \"FLAG_EMAIL\",\n",
    "    \"OCCUPATION_TYPE\",\n",
    "    \"CNT_FAM_MEMBERS\",\n",
    "    \"AGE\"\n",
    "]"
   ]
  },
  {
   "cell_type": "code",
   "execution_count": 28,
   "metadata": {},
   "outputs": [
    {
     "output_type": "execute_result",
     "data": {
      "text/plain": [
       "            ID CODE_GENDER FLAG_OWN_CAR FLAG_OWN_REALTY  CNT_CHILDREN  \\\n",
       "2721   5022250           F            N               Y             0   \n",
       "28945  5117444           M            Y               N             0   \n",
       "9231   5042198           F            N               N             0   \n",
       "20990  5090617           M            Y               Y             2   \n",
       "4068   5024021           F            N               Y             0   \n",
       "...        ...         ...          ...             ...           ...   \n",
       "18248  5074667           F            Y               Y             0   \n",
       "1549   5010747           M            Y               Y             0   \n",
       "34047  5143222           F            N               Y             0   \n",
       "12568  5053488           F            N               Y             0   \n",
       "34437  5145747           F            Y               Y             0   \n",
       "\n",
       "       AMT_INCOME_TOTAL      NAME_INCOME_TYPE            NAME_EDUCATION_TYPE  \\\n",
       "2721           202500.0               Working  Secondary / secondary special   \n",
       "28945          180000.0               Working  Secondary / secondary special   \n",
       "9231            67500.0               Working  Secondary / secondary special   \n",
       "20990          157500.0               Working  Secondary / secondary special   \n",
       "4068           135000.0             Pensioner  Secondary / secondary special   \n",
       "...                 ...                   ...                            ...   \n",
       "18248          157500.0  Commercial associate              Incomplete higher   \n",
       "1549           157500.0               Working  Secondary / secondary special   \n",
       "34047           67500.0             Pensioner                Lower secondary   \n",
       "12568           90000.0             Pensioner  Secondary / secondary special   \n",
       "34437          135000.0               Working               Higher education   \n",
       "\n",
       "         NAME_FAMILY_STATUS  NAME_HOUSING_TYPE  ...   NORM_SUM    LOG_SUM  \\\n",
       "2721                Married  House / apartment  ...  22.233333  11.596228   \n",
       "28945               Married  House / apartment  ...  -2.000000  -0.440345   \n",
       "9231                Married  House / apartment  ...  -9.383333  -6.703996   \n",
       "20990               Married  House / apartment  ...  -6.650000  -4.917820   \n",
       "4068   Single / not married  House / apartment  ...   4.300000   2.246431   \n",
       "...                     ...                ...  ...        ...        ...   \n",
       "18248               Married  House / apartment  ...  -2.950000  -2.562382   \n",
       "1549                Married  House / apartment  ...   0.000000   0.000000   \n",
       "34047  Single / not married  House / apartment  ...  19.950000   9.020361   \n",
       "12568  Single / not married  House / apartment  ...   0.816667   1.988328   \n",
       "34437               Married  House / apartment  ...  12.666667   4.156247   \n",
       "\n",
       "       NORM_MEAN  LOG_MEAN  MIN_MAX_LOG_SUM  MIN_MAX_LOG_MEAN  \\\n",
       "2721    0.741111  0.386541        11.741337          0.391378   \n",
       "28945  -0.083333 -0.018348         1.058318          0.044097   \n",
       "9231   -1.042593 -0.744888         4.076535          0.452948   \n",
       "20990  -0.950000 -0.702546         3.512729          0.501818   \n",
       "4068    0.215000  0.112322         4.996302          0.249815   \n",
       "...          ...       ...              ...               ...   \n",
       "18248  -0.983333 -0.854127         1.830273          0.610091   \n",
       "1549    0.000000  0.000000         4.072707          0.290908   \n",
       "34047   0.399000  0.180407        10.410998          0.208220   \n",
       "12568   0.058333  0.142023         7.010315          0.500737   \n",
       "34437   0.408602  0.134072         4.317380          0.139270   \n",
       "\n",
       "      MIN_MAX_NORM_SUM  MIN_MAX_NORM_MEAN  MIN_MAX_SUM  MIN_MAX_MEAN  \n",
       "2721         22.676190           0.755873     6.766667      6.766667  \n",
       "28945         4.000000           0.166667   -14.000000    -14.000000  \n",
       "9231          5.859524           0.651058    -0.616667     -0.616667  \n",
       "20990         4.750000           0.678571    -0.350000     -0.350000  \n",
       "4068         12.185714           0.609286    -0.300000     -0.300000  \n",
       "...                ...                ...          ...           ...  \n",
       "18248         2.107143           0.702381    -0.050000     -0.050000  \n",
       "1549          9.100000           0.650000     0.000000      0.000000  \n",
       "34047        25.350000           0.507000     2.050000      2.050000  \n",
       "12568        10.816667           0.772619    -0.816667     -0.816667  \n",
       "34437        13.323810           0.429800    14.333333     14.333333  \n",
       "\n",
       "[27342 rows x 29 columns]"
      ],
      "text/html": "<div>\n<style scoped>\n    .dataframe tbody tr th:only-of-type {\n        vertical-align: middle;\n    }\n\n    .dataframe tbody tr th {\n        vertical-align: top;\n    }\n\n    .dataframe thead th {\n        text-align: right;\n    }\n</style>\n<table border=\"1\" class=\"dataframe\">\n  <thead>\n    <tr style=\"text-align: right;\">\n      <th></th>\n      <th>ID</th>\n      <th>CODE_GENDER</th>\n      <th>FLAG_OWN_CAR</th>\n      <th>FLAG_OWN_REALTY</th>\n      <th>CNT_CHILDREN</th>\n      <th>AMT_INCOME_TOTAL</th>\n      <th>NAME_INCOME_TYPE</th>\n      <th>NAME_EDUCATION_TYPE</th>\n      <th>NAME_FAMILY_STATUS</th>\n      <th>NAME_HOUSING_TYPE</th>\n      <th>...</th>\n      <th>NORM_SUM</th>\n      <th>LOG_SUM</th>\n      <th>NORM_MEAN</th>\n      <th>LOG_MEAN</th>\n      <th>MIN_MAX_LOG_SUM</th>\n      <th>MIN_MAX_LOG_MEAN</th>\n      <th>MIN_MAX_NORM_SUM</th>\n      <th>MIN_MAX_NORM_MEAN</th>\n      <th>MIN_MAX_SUM</th>\n      <th>MIN_MAX_MEAN</th>\n    </tr>\n  </thead>\n  <tbody>\n    <tr>\n      <th>2721</th>\n      <td>5022250</td>\n      <td>F</td>\n      <td>N</td>\n      <td>Y</td>\n      <td>0</td>\n      <td>202500.0</td>\n      <td>Working</td>\n      <td>Secondary / secondary special</td>\n      <td>Married</td>\n      <td>House / apartment</td>\n      <td>...</td>\n      <td>22.233333</td>\n      <td>11.596228</td>\n      <td>0.741111</td>\n      <td>0.386541</td>\n      <td>11.741337</td>\n      <td>0.391378</td>\n      <td>22.676190</td>\n      <td>0.755873</td>\n      <td>6.766667</td>\n      <td>6.766667</td>\n    </tr>\n    <tr>\n      <th>28945</th>\n      <td>5117444</td>\n      <td>M</td>\n      <td>Y</td>\n      <td>N</td>\n      <td>0</td>\n      <td>180000.0</td>\n      <td>Working</td>\n      <td>Secondary / secondary special</td>\n      <td>Married</td>\n      <td>House / apartment</td>\n      <td>...</td>\n      <td>-2.000000</td>\n      <td>-0.440345</td>\n      <td>-0.083333</td>\n      <td>-0.018348</td>\n      <td>1.058318</td>\n      <td>0.044097</td>\n      <td>4.000000</td>\n      <td>0.166667</td>\n      <td>-14.000000</td>\n      <td>-14.000000</td>\n    </tr>\n    <tr>\n      <th>9231</th>\n      <td>5042198</td>\n      <td>F</td>\n      <td>N</td>\n      <td>N</td>\n      <td>0</td>\n      <td>67500.0</td>\n      <td>Working</td>\n      <td>Secondary / secondary special</td>\n      <td>Married</td>\n      <td>House / apartment</td>\n      <td>...</td>\n      <td>-9.383333</td>\n      <td>-6.703996</td>\n      <td>-1.042593</td>\n      <td>-0.744888</td>\n      <td>4.076535</td>\n      <td>0.452948</td>\n      <td>5.859524</td>\n      <td>0.651058</td>\n      <td>-0.616667</td>\n      <td>-0.616667</td>\n    </tr>\n    <tr>\n      <th>20990</th>\n      <td>5090617</td>\n      <td>M</td>\n      <td>Y</td>\n      <td>Y</td>\n      <td>2</td>\n      <td>157500.0</td>\n      <td>Working</td>\n      <td>Secondary / secondary special</td>\n      <td>Married</td>\n      <td>House / apartment</td>\n      <td>...</td>\n      <td>-6.650000</td>\n      <td>-4.917820</td>\n      <td>-0.950000</td>\n      <td>-0.702546</td>\n      <td>3.512729</td>\n      <td>0.501818</td>\n      <td>4.750000</td>\n      <td>0.678571</td>\n      <td>-0.350000</td>\n      <td>-0.350000</td>\n    </tr>\n    <tr>\n      <th>4068</th>\n      <td>5024021</td>\n      <td>F</td>\n      <td>N</td>\n      <td>Y</td>\n      <td>0</td>\n      <td>135000.0</td>\n      <td>Pensioner</td>\n      <td>Secondary / secondary special</td>\n      <td>Single / not married</td>\n      <td>House / apartment</td>\n      <td>...</td>\n      <td>4.300000</td>\n      <td>2.246431</td>\n      <td>0.215000</td>\n      <td>0.112322</td>\n      <td>4.996302</td>\n      <td>0.249815</td>\n      <td>12.185714</td>\n      <td>0.609286</td>\n      <td>-0.300000</td>\n      <td>-0.300000</td>\n    </tr>\n    <tr>\n      <th>...</th>\n      <td>...</td>\n      <td>...</td>\n      <td>...</td>\n      <td>...</td>\n      <td>...</td>\n      <td>...</td>\n      <td>...</td>\n      <td>...</td>\n      <td>...</td>\n      <td>...</td>\n      <td>...</td>\n      <td>...</td>\n      <td>...</td>\n      <td>...</td>\n      <td>...</td>\n      <td>...</td>\n      <td>...</td>\n      <td>...</td>\n      <td>...</td>\n      <td>...</td>\n      <td>...</td>\n    </tr>\n    <tr>\n      <th>18248</th>\n      <td>5074667</td>\n      <td>F</td>\n      <td>Y</td>\n      <td>Y</td>\n      <td>0</td>\n      <td>157500.0</td>\n      <td>Commercial associate</td>\n      <td>Incomplete higher</td>\n      <td>Married</td>\n      <td>House / apartment</td>\n      <td>...</td>\n      <td>-2.950000</td>\n      <td>-2.562382</td>\n      <td>-0.983333</td>\n      <td>-0.854127</td>\n      <td>1.830273</td>\n      <td>0.610091</td>\n      <td>2.107143</td>\n      <td>0.702381</td>\n      <td>-0.050000</td>\n      <td>-0.050000</td>\n    </tr>\n    <tr>\n      <th>1549</th>\n      <td>5010747</td>\n      <td>M</td>\n      <td>Y</td>\n      <td>Y</td>\n      <td>0</td>\n      <td>157500.0</td>\n      <td>Working</td>\n      <td>Secondary / secondary special</td>\n      <td>Married</td>\n      <td>House / apartment</td>\n      <td>...</td>\n      <td>0.000000</td>\n      <td>0.000000</td>\n      <td>0.000000</td>\n      <td>0.000000</td>\n      <td>4.072707</td>\n      <td>0.290908</td>\n      <td>9.100000</td>\n      <td>0.650000</td>\n      <td>0.000000</td>\n      <td>0.000000</td>\n    </tr>\n    <tr>\n      <th>34047</th>\n      <td>5143222</td>\n      <td>F</td>\n      <td>N</td>\n      <td>Y</td>\n      <td>0</td>\n      <td>67500.0</td>\n      <td>Pensioner</td>\n      <td>Lower secondary</td>\n      <td>Single / not married</td>\n      <td>House / apartment</td>\n      <td>...</td>\n      <td>19.950000</td>\n      <td>9.020361</td>\n      <td>0.399000</td>\n      <td>0.180407</td>\n      <td>10.410998</td>\n      <td>0.208220</td>\n      <td>25.350000</td>\n      <td>0.507000</td>\n      <td>2.050000</td>\n      <td>2.050000</td>\n    </tr>\n    <tr>\n      <th>12568</th>\n      <td>5053488</td>\n      <td>F</td>\n      <td>N</td>\n      <td>Y</td>\n      <td>0</td>\n      <td>90000.0</td>\n      <td>Pensioner</td>\n      <td>Secondary / secondary special</td>\n      <td>Single / not married</td>\n      <td>House / apartment</td>\n      <td>...</td>\n      <td>0.816667</td>\n      <td>1.988328</td>\n      <td>0.058333</td>\n      <td>0.142023</td>\n      <td>7.010315</td>\n      <td>0.500737</td>\n      <td>10.816667</td>\n      <td>0.772619</td>\n      <td>-0.816667</td>\n      <td>-0.816667</td>\n    </tr>\n    <tr>\n      <th>34437</th>\n      <td>5145747</td>\n      <td>F</td>\n      <td>Y</td>\n      <td>Y</td>\n      <td>0</td>\n      <td>135000.0</td>\n      <td>Working</td>\n      <td>Higher education</td>\n      <td>Married</td>\n      <td>House / apartment</td>\n      <td>...</td>\n      <td>12.666667</td>\n      <td>4.156247</td>\n      <td>0.408602</td>\n      <td>0.134072</td>\n      <td>4.317380</td>\n      <td>0.139270</td>\n      <td>13.323810</td>\n      <td>0.429800</td>\n      <td>14.333333</td>\n      <td>14.333333</td>\n    </tr>\n  </tbody>\n</table>\n<p>27342 rows × 29 columns</p>\n</div>"
     },
     "metadata": {},
     "execution_count": 28
    }
   ],
   "source": [
    "train, test = train_test_split(dat, )\n",
    "train"
   ]
  },
  {
   "cell_type": "code",
   "execution_count": 29,
   "metadata": {},
   "outputs": [
    {
     "output_type": "execute_result",
     "data": {
      "text/plain": [
       "0.18618484957162032"
      ]
     },
     "metadata": {},
     "execution_count": 29
    }
   ],
   "source": [
    "X = pd.get_dummies(train[predictors])\n",
    "y = train.MIN_MAX_LOG_MEAN\n",
    "\n",
    "dtreg = DecisionTreeRegressor()\n",
    "dtreg.fit(X, y)\n",
    "np.sqrt(((dtreg.predict(pd.get_dummies(test[predictors])) - test.MIN_MAX_LOG_MEAN)**2).mean())"
   ]
  },
  {
   "cell_type": "code",
   "execution_count": 30,
   "metadata": {},
   "outputs": [
    {
     "output_type": "execute_result",
     "data": {
      "text/plain": [
       "count    9115.000000\n",
       "mean        0.347729\n",
       "std         0.167480\n",
       "min         0.001759\n",
       "25%         0.232041\n",
       "50%         0.340091\n",
       "75%         0.462678\n",
       "max         1.000000\n",
       "Name: MIN_MAX_LOG_MEAN, dtype: float64"
      ]
     },
     "metadata": {},
     "execution_count": 30
    }
   ],
   "source": [
    "test.MIN_MAX_LOG_MEAN.describe()"
   ]
  },
  {
   "cell_type": "code",
   "execution_count": 31,
   "metadata": {},
   "outputs": [
    {
     "output_type": "execute_result",
     "data": {
      "text/plain": [
       "4.097908645459398"
      ]
     },
     "metadata": {},
     "execution_count": 31
    }
   ],
   "source": [
    "X = pd.get_dummies(train[predictors])\n",
    "y = train.MIN_MAX_LOG_SUM\n",
    "\n",
    "dtreg = DecisionTreeRegressor()\n",
    "dtreg.fit(X, y)\n",
    "np.sqrt(((dtreg.predict(pd.get_dummies(test[predictors])) - test.MIN_MAX_LOG_SUM)**2).mean())"
   ]
  },
  {
   "cell_type": "code",
   "execution_count": 32,
   "metadata": {},
   "outputs": [
    {
     "output_type": "execute_result",
     "data": {
      "text/plain": [
       "count    9115.000000\n",
       "mean        6.428141\n",
       "std         4.059706\n",
       "min         0.003519\n",
       "25%         2.885760\n",
       "50%         6.022517\n",
       "75%         9.815681\n",
       "max        13.926041\n",
       "Name: MIN_MAX_LOG_SUM, dtype: float64"
      ]
     },
     "metadata": {},
     "execution_count": 32
    }
   ],
   "source": [
    "test.MIN_MAX_LOG_SUM.describe()"
   ]
  },
  {
   "cell_type": "code",
   "execution_count": 33,
   "metadata": {},
   "outputs": [
    {
     "output_type": "execute_result",
     "data": {
      "text/plain": [
       "13.08336887520402"
      ]
     },
     "metadata": {},
     "execution_count": 33
    }
   ],
   "source": [
    "X = pd.get_dummies(train[predictors])\n",
    "y = train.NORM_SUM\n",
    "\n",
    "dtreg = DecisionTreeRegressor()\n",
    "dtreg.fit(X, y)\n",
    "np.sqrt(((dtreg.predict(pd.get_dummies(test[predictors])) - test.NORM_SUM)**2).mean())"
   ]
  },
  {
   "cell_type": "code",
   "execution_count": 34,
   "metadata": {},
   "outputs": [
    {
     "output_type": "execute_result",
     "data": {
      "text/plain": [
       "count    9115.000000\n",
       "mean        0.872761\n",
       "std        12.172798\n",
       "min      -170.583333\n",
       "25%        -5.750000\n",
       "50%        -0.516667\n",
       "75%         7.166667\n",
       "max        30.400000\n",
       "Name: NORM_SUM, dtype: float64"
      ]
     },
     "metadata": {},
     "execution_count": 34
    }
   ],
   "source": [
    "test.NORM_SUM.describe()"
   ]
  },
  {
   "cell_type": "code",
   "execution_count": 35,
   "metadata": {},
   "outputs": [
    {
     "output_type": "execute_result",
     "data": {
      "text/plain": [
       "0.5588876288443297"
      ]
     },
     "metadata": {},
     "execution_count": 35
    }
   ],
   "source": [
    "X = pd.get_dummies(train[predictors])\n",
    "y = train.NORM_MEAN\n",
    "\n",
    "dtreg = DecisionTreeRegressor()\n",
    "dtreg.fit(X, y)\n",
    "np.sqrt(((dtreg.predict(pd.get_dummies(test[predictors])) - test.NORM_MEAN)**2).mean())"
   ]
  },
  {
   "cell_type": "code",
   "execution_count": 36,
   "metadata": {},
   "outputs": [
    {
     "output_type": "execute_result",
     "data": {
      "text/plain": [
       "count    9115.000000\n",
       "mean       -0.143222\n",
       "std         0.534278\n",
       "min        -4.479167\n",
       "25%        -0.585657\n",
       "50%        -0.044074\n",
       "75%         0.320711\n",
       "max         1.000000\n",
       "Name: NORM_MEAN, dtype: float64"
      ]
     },
     "metadata": {},
     "execution_count": 36
    }
   ],
   "source": [
    "test.NORM_MEAN.describe()"
   ]
  },
  {
   "cell_type": "code",
   "execution_count": 50,
   "metadata": {},
   "outputs": [],
   "source": [
    "from sklearn.ensemble import RandomForestClassifier, RandomForestRegressor"
   ]
  },
  {
   "cell_type": "code",
   "execution_count": 38,
   "metadata": {},
   "outputs": [
    {
     "output_type": "execute_result",
     "data": {
      "text/plain": [
       "RandomForestRegressor()"
      ]
     },
     "metadata": {},
     "execution_count": 38
    }
   ],
   "source": [
    "X = pd.get_dummies(train[predictors])\n",
    "y = train.MIN_MAX_LOG_MEAN\n",
    "\n",
    "rf = RandomForestRegressor()\n",
    "rf.fit(X, y)\n",
    "np.sqrt(((rf.predict(pd.get_dummies(test[predictors])) - test.MIN_MAX_LOG_MEAN)**2).mean())"
   ]
  },
  {
   "cell_type": "code",
   "execution_count": 40,
   "metadata": {},
   "outputs": [
    {
     "output_type": "execute_result",
     "data": {
      "text/plain": [
       "3.790464008771871"
      ]
     },
     "metadata": {},
     "execution_count": 40
    }
   ],
   "source": [
    "X = pd.get_dummies(train[predictors])\n",
    "y = train.MIN_MAX_LOG_SUM\n",
    "\n",
    "rf = RandomForestRegressor()\n",
    "rf.fit(X, y)\n",
    "np.sqrt(((rf.predict(pd.get_dummies(test[predictors])) - test.MIN_MAX_LOG_SUM)**2).mean())"
   ]
  },
  {
   "cell_type": "code",
   "execution_count": 42,
   "metadata": {},
   "outputs": [
    {
     "output_type": "execute_result",
     "data": {
      "text/plain": [
       "count    9115.000000\n",
       "mean        6.428141\n",
       "std         4.059706\n",
       "min         0.003519\n",
       "25%         2.885760\n",
       "50%         6.022517\n",
       "75%         9.815681\n",
       "max        13.926041\n",
       "Name: MIN_MAX_LOG_SUM, dtype: float64"
      ]
     },
     "metadata": {},
     "execution_count": 42
    }
   ],
   "source": [
    "test.MIN_MAX_LOG_SUM.describe()"
   ]
  },
  {
   "cell_type": "code",
   "execution_count": 44,
   "metadata": {},
   "outputs": [
    {
     "output_type": "execute_result",
     "data": {
      "text/plain": [
       "31.424529648358618"
      ]
     },
     "metadata": {},
     "execution_count": 44
    }
   ],
   "source": [
    "X = pd.get_dummies(train[predictors])\n",
    "y = train.MIN_MAX_NORM_MEAN * 100\n",
    "\n",
    "rf = RandomForestRegressor()\n",
    "rf.fit(X, y)\n",
    "np.sqrt(((rf.predict(pd.get_dummies(test[predictors])) - test.MIN_MAX_LOG_MEAN * 100)**2).mean())"
   ]
  },
  {
   "cell_type": "code",
   "execution_count": 47,
   "metadata": {},
   "outputs": [
    {
     "output_type": "execute_result",
     "data": {
      "text/plain": [
       "count    9115.000000\n",
       "mean       -0.143222\n",
       "std         0.534278\n",
       "min        -4.479167\n",
       "25%        -0.585657\n",
       "50%        -0.044074\n",
       "75%         0.320711\n",
       "max         1.000000\n",
       "Name: NORM_MEAN, dtype: float64"
      ]
     },
     "metadata": {},
     "execution_count": 47
    }
   ],
   "source": [
    "(test.NORM_MEAN).describe()"
   ]
  },
  {
   "cell_type": "code",
   "execution_count": 72,
   "metadata": {},
   "outputs": [],
   "source": [
    "def bin_score(x):\n",
    "    if x > 0 :\n",
    "        return \"good\"\n",
    "    else:\n",
    "        return \"bad\"\n",
    "\n",
    "dat[\"CAT_SCORE\"] = dat.NORM_MEAN.map(bin_score)"
   ]
  },
  {
   "cell_type": "code",
   "execution_count": 73,
   "metadata": {},
   "outputs": [
    {
     "output_type": "execute_result",
     "data": {
      "text/plain": [
       "bad     22294\n",
       "good    14163\n",
       "Name: CAT_SCORE, dtype: int64"
      ]
     },
     "metadata": {},
     "execution_count": 73
    }
   ],
   "source": [
    "dat[\"CAT_SCORE\"].value_counts()"
   ]
  },
  {
   "cell_type": "code",
   "execution_count": 74,
   "metadata": {},
   "outputs": [
    {
     "output_type": "execute_result",
     "data": {
      "text/plain": [
       "0.6744925946242457"
      ]
     },
     "metadata": {},
     "execution_count": 74
    }
   ],
   "source": [
    "train, test = train_test_split(dat)\n",
    "X = pd.get_dummies(train[predictors])\n",
    "y = train.CAT_SCORE\n",
    "\n",
    "rf = RandomForestClassifier(criterion=\"entropy\")\n",
    "rf.fit(X, y)\n",
    "(rf.predict(pd.get_dummies(test[predictors])) == test.CAT_SCORE).mean()"
   ]
  },
  {
   "cell_type": "code",
   "execution_count": 75,
   "metadata": {},
   "outputs": [
    {
     "output_type": "execute_result",
     "data": {
      "text/plain": [
       "0.6115149354033519"
      ]
     },
     "metadata": {},
     "execution_count": 75
    }
   ],
   "source": [
    "22294/(22294+14163)"
   ]
  },
  {
   "cell_type": "code",
   "execution_count": 1,
   "metadata": {
    "tags": []
   },
   "outputs": [
    {
     "output_type": "stream",
     "name": "stdout",
     "text": [
      "2 2.45\n",
      "Iris-setosa 50 1.0\n",
      "3 1.75\n",
      "2 4.95\n",
      "Iris-versicolor 48 0.9791666666666666\n",
      "3 1.55\n",
      "Iris-virginica 3 1.0\n",
      "Iris-versicolor 3 0.6666666666666666\n",
      "Iris-virginica 46 0.9782608695652174\n"
     ]
    }
   ],
   "source": [
    "\n",
    "import pandas as pd\n",
    "from decision_tree import DecisionTreeClassifier\n",
    "iris = pd.read_csv(\"iris.txt\", header=None)\n",
    "iris_tree = DecisionTreeClassifier(5, 0.95).fit(iris.iloc[:, :-1], iris.iloc[:, -1])"
   ]
  },
  {
   "cell_type": "code",
   "execution_count": 2,
   "metadata": {},
   "outputs": [
    {
     "output_type": "execute_result",
     "data": {
      "text/plain": [
       "0.98"
      ]
     },
     "metadata": {},
     "execution_count": 2
    }
   ],
   "source": [
    "(iris_tree.predict(iris.iloc[:,:-1]) == iris.iloc[:, -1]).mean()"
   ]
  },
  {
   "cell_type": "code",
   "execution_count": 3,
   "metadata": {},
   "outputs": [
    {
     "output_type": "stream",
     "name": "stdout",
     "text": [
      "odor n\n",
      "e 3528 0.9659863945578231\n",
      "bruises t\n",
      "stalk-root c\n",
      "e 512 1.0\n",
      "stalk-root r\n",
      "e 192 1.0\n",
      "gill-spacing c\n",
      "p 544 1.0\n",
      "e 96 1.0\n",
      "p 3252 1.0\n"
     ]
    }
   ],
   "source": [
    "mush = pd.read_csv(\"mushrooms.csv\")\n",
    "mush_tree = DecisionTreeClassifier(5, 0.95).fit(\n",
    "    mush.iloc[:, 1:], mush[\"class\"]\n",
    ")"
   ]
  },
  {
   "cell_type": "code",
   "execution_count": 5,
   "metadata": {},
   "outputs": [
    {
     "output_type": "execute_result",
     "data": {
      "text/plain": [
       "0.9852289512555391"
      ]
     },
     "metadata": {},
     "execution_count": 5
    }
   ],
   "source": [
    "(mush_tree.predict(mush.iloc[:, 1:]) == mush[\"class\"]).mean()"
   ]
  },
  {
   "cell_type": "code",
   "execution_count": null,
   "metadata": {},
   "outputs": [],
   "source": []
  }
 ],
 "metadata": {
  "kernelspec": {
   "display_name": "Python 3",
   "language": "python",
   "name": "python3"
  },
  "language_info": {
   "codemirror_mode": {
    "name": "ipython",
    "version": 3
   },
   "file_extension": ".py",
   "mimetype": "text/x-python",
   "name": "python",
   "nbconvert_exporter": "python",
   "pygments_lexer": "ipython3",
   "version": "3.8.3-final"
  }
 },
 "nbformat": 4,
 "nbformat_minor": 4
}