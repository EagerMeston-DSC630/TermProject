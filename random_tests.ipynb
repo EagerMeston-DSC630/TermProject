{
 "metadata": {
  "language_info": {
   "codemirror_mode": {
    "name": "ipython",
    "version": 3
   },
   "file_extension": ".py",
   "mimetype": "text/x-python",
   "name": "python",
   "nbconvert_exporter": "python",
   "pygments_lexer": "ipython3",
   "version": "3.8.3-final"
  },
  "orig_nbformat": 2,
  "kernelspec": {
   "name": "python3",
   "display_name": "Python 3"
  }
 },
 "nbformat": 4,
 "nbformat_minor": 2,
 "cells": [
  {
   "cell_type": "code",
   "execution_count": 12,
   "metadata": {},
   "outputs": [],
   "source": [
    "import dill"
   ]
  },
  {
   "cell_type": "code",
   "execution_count": 13,
   "metadata": {},
   "outputs": [],
   "source": [
    "with open(\"model_evaluation/cred_tree_no_zeros.pkl\", \"rb\") as pklfile:\n",
    "    zeroless_tree_from_pkl = dill.load(pklfile)"
   ]
  },
  {
   "cell_type": "code",
   "execution_count": 14,
   "metadata": {},
   "outputs": [],
   "source": [
    "with open(\"model_evaluation/cred_tree.pkl\", \"rb\") as pklfile:\n",
    "    credtree_from_pkl = dill.load(pklfile)"
   ]
  },
  {
   "cell_type": "code",
   "execution_count": 19,
   "metadata": {},
   "outputs": [],
   "source": [
    "with open(\"data/test_by_ID.pkl\", \"rb\") as pklfile:\n",
    "    test_by_ID = dill.load(pklfile)"
   ]
  },
  {
   "cell_type": "code",
   "execution_count": 20,
   "metadata": {},
   "outputs": [],
   "source": [
    "with open(\"model_evaluation/cluster_preds.pkl\", \"rb\") as pklfile:\n",
    "    cluster_preds = dill.load(pklfile)"
   ]
  },
  {
   "cell_type": "code",
   "execution_count": 21,
   "metadata": {},
   "outputs": [],
   "source": [
    "with open(\"model_evaluation/cluster_preds_no_zeros.pkl\", \"rb\") as pklfile:\n",
    "    zeroless_cluster_preds = dill.load(pklfile)"
   ]
  },
  {
   "cell_type": "code",
   "execution_count": 29,
   "metadata": {},
   "outputs": [],
   "source": [
    "with open(\"data/test_by_ID_no_zeros.pkl\", \"rb\") as pklfile:\n",
    "    test_by_ID_no_zeros = dill.load(pklfile)"
   ]
  },
  {
   "cell_type": "code",
   "execution_count": 30,
   "metadata": {},
   "outputs": [
    {
     "output_type": "execute_result",
     "data": {
      "text/plain": [
       "True"
      ]
     },
     "metadata": {},
     "execution_count": 30
    }
   ],
   "source": [
    "zeroless_tree_from_pkl.predict(test_by_ID_no_zeros).equals(zeroless_cluster_preds)"
   ]
  },
  {
   "cell_type": "code",
   "execution_count": 32,
   "metadata": {},
   "outputs": [
    {
     "output_type": "execute_result",
     "data": {
      "text/plain": [
       "True"
      ]
     },
     "metadata": {},
     "execution_count": 32
    }
   ],
   "source": [
    "credtree_from_pkl.predict(test_by_ID).equals(cluster_preds)"
   ]
  },
  {
   "cell_type": "code",
   "execution_count": null,
   "metadata": {},
   "outputs": [],
   "source": [
    "import pandas as pd\n",
    "train = pd.read_pickle(\"data/train.pkl\")\n",
    "train[\"STATUS\"].value_counts() / train[\"STATUS\"].shape[0]"
   ]
  },
  {
   "cell_type": "code",
   "execution_count": 1,
   "metadata": {},
   "outputs": [
    {
     "output_type": "execute_result",
     "data": {
      "text/plain": [
       " 1    0.521386\n",
       "-1    0.460305\n",
       "-2    0.013885\n",
       "-6    0.002382\n",
       "-3    0.001293\n",
       "-4    0.000428\n",
       "-5    0.000321\n",
       "Name: STATUS, dtype: float64"
      ]
     },
     "metadata": {},
     "execution_count": 1
    }
   ],
   "source": [
    "import pandas as pd\n",
    "train_no_zeros = pd.read_pickle(\"data/train_no_zeros.pkl\")\n",
    "train_no_zeros[\"STATUS\"].value_counts() / train_no_zeros.shape[0]"
   ]
  },
  {
   "cell_type": "code",
   "execution_count": null,
   "metadata": {},
   "outputs": [],
   "source": []
  }
 ]
}