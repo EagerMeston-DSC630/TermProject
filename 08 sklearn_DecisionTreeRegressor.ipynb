{
 "metadata": {
  "language_info": {
   "codemirror_mode": {
    "name": "ipython",
    "version": 3
   },
   "file_extension": ".py",
   "mimetype": "text/x-python",
   "name": "python",
   "nbconvert_exporter": "python",
   "pygments_lexer": "ipython3",
   "version": "3.8.3-final"
  },
  "orig_nbformat": 2,
  "kernelspec": {
   "name": "python3",
   "display_name": "Python 3"
  }
 },
 "nbformat": 4,
 "nbformat_minor": 2,
 "cells": [
  {
   "cell_type": "code",
   "execution_count": 1,
   "metadata": {},
   "outputs": [],
   "source": [
    "import numpy as np\n",
    "import pandas as pd\n",
    "from sklearn.tree import DecisionTreeRegressor"
   ]
  },
  {
   "cell_type": "code",
   "execution_count": 2,
   "metadata": {},
   "outputs": [],
   "source": [
    "train = pd.read_pickle(\"data/train.pkl\")\n",
    "test = pd.read_pickle(\"data/test_by_ID.pkl\")"
   ]
  },
  {
   "cell_type": "code",
   "execution_count": 3,
   "metadata": {},
   "outputs": [],
   "source": [
    "def calculate_pmf(df, idx):\n",
    "    pmf = pd.Series(0, index=idx)\n",
    "    counts = df[\"STATUS\"].value_counts()\n",
    "    pmf[counts.index] = counts / df.shape[0]\n",
    "    return pmf\n",
    "\n",
    "# get PMF by ID for training sets\n",
    "statuses = np.arange(-6,2)\n",
    "train_by_ID = train.groupby(\"ID\")\n"
   ]
  },
  {
   "cell_type": "code",
   "execution_count": 4,
   "metadata": {},
   "outputs": [
    {
     "output_type": "execute_result",
     "data": {
      "text/plain": [
       "          -6   -5   -4   -3        -2        -1         0         1\n",
       "5112591  0.0  0.0  0.0  0.0  0.071429  0.071429  0.071429  0.785714\n",
       "5112592  0.0  0.0  0.0  0.0  0.071429  0.071429  0.071429  0.785714\n",
       "5112593  0.0  0.0  0.0  0.0  0.000000  0.235294  0.647059  0.117647\n",
       "5112594  0.0  0.0  0.0  0.0  0.000000  0.250000  0.750000  0.000000\n",
       "5112597  0.0  0.0  0.0  0.0  0.000000  0.000000  1.000000  0.000000\n",
       "...      ...  ...  ...  ...       ...       ...       ...       ...\n",
       "5111201  0.0  0.0  0.0  0.0  0.000000  0.642857  0.000000  0.357143\n",
       "5111203  0.0  0.0  0.0  0.0  0.000000  0.000000  1.000000  0.000000\n",
       "5111204  0.0  0.0  0.0  0.0  0.000000  0.888889  0.000000  0.111111\n",
       "5111205  0.0  0.0  0.0  0.0  0.000000  1.000000  0.000000  0.000000\n",
       "5111206  0.0  0.0  0.0  0.0  0.000000  0.000000  0.000000  1.000000\n",
       "\n",
       "[36287 rows x 8 columns]"
      ],
      "text/html": "<div>\n<style scoped>\n    .dataframe tbody tr th:only-of-type {\n        vertical-align: middle;\n    }\n\n    .dataframe tbody tr th {\n        vertical-align: top;\n    }\n\n    .dataframe thead th {\n        text-align: right;\n    }\n</style>\n<table border=\"1\" class=\"dataframe\">\n  <thead>\n    <tr style=\"text-align: right;\">\n      <th></th>\n      <th>-6</th>\n      <th>-5</th>\n      <th>-4</th>\n      <th>-3</th>\n      <th>-2</th>\n      <th>-1</th>\n      <th>0</th>\n      <th>1</th>\n    </tr>\n  </thead>\n  <tbody>\n    <tr>\n      <th>5112591</th>\n      <td>0.0</td>\n      <td>0.0</td>\n      <td>0.0</td>\n      <td>0.0</td>\n      <td>0.071429</td>\n      <td>0.071429</td>\n      <td>0.071429</td>\n      <td>0.785714</td>\n    </tr>\n    <tr>\n      <th>5112592</th>\n      <td>0.0</td>\n      <td>0.0</td>\n      <td>0.0</td>\n      <td>0.0</td>\n      <td>0.071429</td>\n      <td>0.071429</td>\n      <td>0.071429</td>\n      <td>0.785714</td>\n    </tr>\n    <tr>\n      <th>5112593</th>\n      <td>0.0</td>\n      <td>0.0</td>\n      <td>0.0</td>\n      <td>0.0</td>\n      <td>0.000000</td>\n      <td>0.235294</td>\n      <td>0.647059</td>\n      <td>0.117647</td>\n    </tr>\n    <tr>\n      <th>5112594</th>\n      <td>0.0</td>\n      <td>0.0</td>\n      <td>0.0</td>\n      <td>0.0</td>\n      <td>0.000000</td>\n      <td>0.250000</td>\n      <td>0.750000</td>\n      <td>0.000000</td>\n    </tr>\n    <tr>\n      <th>5112597</th>\n      <td>0.0</td>\n      <td>0.0</td>\n      <td>0.0</td>\n      <td>0.0</td>\n      <td>0.000000</td>\n      <td>0.000000</td>\n      <td>1.000000</td>\n      <td>0.000000</td>\n    </tr>\n    <tr>\n      <th>...</th>\n      <td>...</td>\n      <td>...</td>\n      <td>...</td>\n      <td>...</td>\n      <td>...</td>\n      <td>...</td>\n      <td>...</td>\n      <td>...</td>\n    </tr>\n    <tr>\n      <th>5111201</th>\n      <td>0.0</td>\n      <td>0.0</td>\n      <td>0.0</td>\n      <td>0.0</td>\n      <td>0.000000</td>\n      <td>0.642857</td>\n      <td>0.000000</td>\n      <td>0.357143</td>\n    </tr>\n    <tr>\n      <th>5111203</th>\n      <td>0.0</td>\n      <td>0.0</td>\n      <td>0.0</td>\n      <td>0.0</td>\n      <td>0.000000</td>\n      <td>0.000000</td>\n      <td>1.000000</td>\n      <td>0.000000</td>\n    </tr>\n    <tr>\n      <th>5111204</th>\n      <td>0.0</td>\n      <td>0.0</td>\n      <td>0.0</td>\n      <td>0.0</td>\n      <td>0.000000</td>\n      <td>0.888889</td>\n      <td>0.000000</td>\n      <td>0.111111</td>\n    </tr>\n    <tr>\n      <th>5111205</th>\n      <td>0.0</td>\n      <td>0.0</td>\n      <td>0.0</td>\n      <td>0.0</td>\n      <td>0.000000</td>\n      <td>1.000000</td>\n      <td>0.000000</td>\n      <td>0.000000</td>\n    </tr>\n    <tr>\n      <th>5111206</th>\n      <td>0.0</td>\n      <td>0.0</td>\n      <td>0.0</td>\n      <td>0.0</td>\n      <td>0.000000</td>\n      <td>0.000000</td>\n      <td>0.000000</td>\n      <td>1.000000</td>\n    </tr>\n  </tbody>\n</table>\n<p>36287 rows × 8 columns</p>\n</div>"
     },
     "metadata": {},
     "execution_count": 4
    }
   ],
   "source": [
    "pmfs = pd.DataFrame(\n",
    "    [\n",
    "        calculate_pmf(group, idx=statuses)\n",
    "        for _, group in train_by_ID\n",
    "    ],\n",
    "    index=set(train[\"ID\"])\n",
    ")\n",
    "pmfs"
   ]
  },
  {
   "cell_type": "code",
   "execution_count": 5,
   "metadata": {},
   "outputs": [
    {
     "output_type": "execute_result",
     "data": {
      "text/plain": [
       "          -6   -5   -4   -3        -2        -1         0         1\n",
       "ID                                                                 \n",
       "5112591  0.0  0.0  0.0  0.0  0.071429  0.071429  0.071429  0.785714\n",
       "5112592  0.0  0.0  0.0  0.0  0.071429  0.071429  0.071429  0.785714\n",
       "5112593  0.0  0.0  0.0  0.0  0.000000  0.235294  0.647059  0.117647\n",
       "5112594  0.0  0.0  0.0  0.0  0.000000  0.250000  0.750000  0.000000\n",
       "5112597  0.0  0.0  0.0  0.0  0.000000  0.000000  1.000000  0.000000\n",
       "...      ...  ...  ...  ...       ...       ...       ...       ...\n",
       "5111201  0.0  0.0  0.0  0.0  0.000000  0.642857  0.000000  0.357143\n",
       "5111203  0.0  0.0  0.0  0.0  0.000000  0.000000  1.000000  0.000000\n",
       "5111204  0.0  0.0  0.0  0.0  0.000000  0.888889  0.000000  0.111111\n",
       "5111205  0.0  0.0  0.0  0.0  0.000000  1.000000  0.000000  0.000000\n",
       "5111206  0.0  0.0  0.0  0.0  0.000000  0.000000  0.000000  1.000000\n",
       "\n",
       "[36287 rows x 8 columns]"
      ],
      "text/html": "<div>\n<style scoped>\n    .dataframe tbody tr th:only-of-type {\n        vertical-align: middle;\n    }\n\n    .dataframe tbody tr th {\n        vertical-align: top;\n    }\n\n    .dataframe thead th {\n        text-align: right;\n    }\n</style>\n<table border=\"1\" class=\"dataframe\">\n  <thead>\n    <tr style=\"text-align: right;\">\n      <th></th>\n      <th>-6</th>\n      <th>-5</th>\n      <th>-4</th>\n      <th>-3</th>\n      <th>-2</th>\n      <th>-1</th>\n      <th>0</th>\n      <th>1</th>\n    </tr>\n    <tr>\n      <th>ID</th>\n      <th></th>\n      <th></th>\n      <th></th>\n      <th></th>\n      <th></th>\n      <th></th>\n      <th></th>\n      <th></th>\n    </tr>\n  </thead>\n  <tbody>\n    <tr>\n      <th>5112591</th>\n      <td>0.0</td>\n      <td>0.0</td>\n      <td>0.0</td>\n      <td>0.0</td>\n      <td>0.071429</td>\n      <td>0.071429</td>\n      <td>0.071429</td>\n      <td>0.785714</td>\n    </tr>\n    <tr>\n      <th>5112592</th>\n      <td>0.0</td>\n      <td>0.0</td>\n      <td>0.0</td>\n      <td>0.0</td>\n      <td>0.071429</td>\n      <td>0.071429</td>\n      <td>0.071429</td>\n      <td>0.785714</td>\n    </tr>\n    <tr>\n      <th>5112593</th>\n      <td>0.0</td>\n      <td>0.0</td>\n      <td>0.0</td>\n      <td>0.0</td>\n      <td>0.000000</td>\n      <td>0.235294</td>\n      <td>0.647059</td>\n      <td>0.117647</td>\n    </tr>\n    <tr>\n      <th>5112594</th>\n      <td>0.0</td>\n      <td>0.0</td>\n      <td>0.0</td>\n      <td>0.0</td>\n      <td>0.000000</td>\n      <td>0.250000</td>\n      <td>0.750000</td>\n      <td>0.000000</td>\n    </tr>\n    <tr>\n      <th>5112597</th>\n      <td>0.0</td>\n      <td>0.0</td>\n      <td>0.0</td>\n      <td>0.0</td>\n      <td>0.000000</td>\n      <td>0.000000</td>\n      <td>1.000000</td>\n      <td>0.000000</td>\n    </tr>\n    <tr>\n      <th>...</th>\n      <td>...</td>\n      <td>...</td>\n      <td>...</td>\n      <td>...</td>\n      <td>...</td>\n      <td>...</td>\n      <td>...</td>\n      <td>...</td>\n    </tr>\n    <tr>\n      <th>5111201</th>\n      <td>0.0</td>\n      <td>0.0</td>\n      <td>0.0</td>\n      <td>0.0</td>\n      <td>0.000000</td>\n      <td>0.642857</td>\n      <td>0.000000</td>\n      <td>0.357143</td>\n    </tr>\n    <tr>\n      <th>5111203</th>\n      <td>0.0</td>\n      <td>0.0</td>\n      <td>0.0</td>\n      <td>0.0</td>\n      <td>0.000000</td>\n      <td>0.000000</td>\n      <td>1.000000</td>\n      <td>0.000000</td>\n    </tr>\n    <tr>\n      <th>5111204</th>\n      <td>0.0</td>\n      <td>0.0</td>\n      <td>0.0</td>\n      <td>0.0</td>\n      <td>0.000000</td>\n      <td>0.888889</td>\n      <td>0.000000</td>\n      <td>0.111111</td>\n    </tr>\n    <tr>\n      <th>5111205</th>\n      <td>0.0</td>\n      <td>0.0</td>\n      <td>0.0</td>\n      <td>0.0</td>\n      <td>0.000000</td>\n      <td>1.000000</td>\n      <td>0.000000</td>\n      <td>0.000000</td>\n    </tr>\n    <tr>\n      <th>5111206</th>\n      <td>0.0</td>\n      <td>0.0</td>\n      <td>0.0</td>\n      <td>0.0</td>\n      <td>0.000000</td>\n      <td>0.000000</td>\n      <td>0.000000</td>\n      <td>1.000000</td>\n    </tr>\n  </tbody>\n</table>\n<p>36287 rows × 8 columns</p>\n</div>"
     },
     "metadata": {},
     "execution_count": 5
    }
   ],
   "source": [
    "pmfs.index.name = \"ID\"\n",
    "pmfs"
   ]
  },
  {
   "cell_type": "code",
   "execution_count": 6,
   "metadata": {},
   "outputs": [
    {
     "output_type": "execute_result",
     "data": {
      "text/plain": [
       "(36287, (36287, 8))"
      ]
     },
     "metadata": {},
     "execution_count": 6
    }
   ],
   "source": [
    "len(set(train[\"ID\"])), pmfs.shape"
   ]
  },
  {
   "cell_type": "code",
   "execution_count": 7,
   "metadata": {},
   "outputs": [
    {
     "output_type": "execute_result",
     "data": {
      "text/plain": [
       "         STATUS CODE_GENDER FLAG_OWN_CAR FLAG_OWN_REALTY  CNT_CHILDREN  \\\n",
       "ID                                                                       \n",
       "5143180       1           M            Y               N             0   \n",
       "5115801      -1           F            N               Y             0   \n",
       "5115803      -1           F            N               Y             0   \n",
       "5115805      -1           F            N               Y             0   \n",
       "5115806       1           F            N               Y             0   \n",
       "...         ...         ...          ...             ...           ...   \n",
       "5118331      -2           F            N               N             7   \n",
       "5061211      -1           M            Y               Y            14   \n",
       "5061207       0           M            Y               Y            14   \n",
       "5061210      -1           M            Y               Y            14   \n",
       "5105054      -1           F            N               Y            19   \n",
       "\n",
       "         AMT_INCOME_TOTAL      NAME_INCOME_TYPE  \\\n",
       "ID                                                \n",
       "5143180          225000.0  Commercial associate   \n",
       "5115801          202500.0               Working   \n",
       "5115803          202500.0               Working   \n",
       "5115805          202500.0               Working   \n",
       "5115806          202500.0               Working   \n",
       "...                   ...                   ...   \n",
       "5118331          157500.0               Working   \n",
       "5061211          225000.0               Working   \n",
       "5061207          225000.0               Working   \n",
       "5061210          225000.0               Working   \n",
       "5105054          112500.0               Working   \n",
       "\n",
       "                   NAME_EDUCATION_TYPE    NAME_FAMILY_STATUS  \\\n",
       "ID                                                             \n",
       "5143180  Secondary / secondary special  Single / not married   \n",
       "5115801  Secondary / secondary special  Single / not married   \n",
       "5115803  Secondary / secondary special  Single / not married   \n",
       "5115805  Secondary / secondary special  Single / not married   \n",
       "5115806  Secondary / secondary special  Single / not married   \n",
       "...                                ...                   ...   \n",
       "5118331  Secondary / secondary special               Married   \n",
       "5061211  Secondary / secondary special             Separated   \n",
       "5061207  Secondary / secondary special             Separated   \n",
       "5061210  Secondary / secondary special             Separated   \n",
       "5105054  Secondary / secondary special  Single / not married   \n",
       "\n",
       "         NAME_HOUSING_TYPE  DAYS_BIRTH  DAYS_EMPLOYED  FLAG_MOBIL  \\\n",
       "ID                                                                  \n",
       "5143180  House / apartment      -17473          -2631           1   \n",
       "5115801  House / apartment      -10752           -590           1   \n",
       "5115803  House / apartment      -10752           -590           1   \n",
       "5115805  House / apartment      -10752           -590           1   \n",
       "5115806  House / apartment      -10752           -590           1   \n",
       "...                    ...         ...            ...         ...   \n",
       "5118331  House / apartment      -13827          -1649           1   \n",
       "5061211  House / apartment      -17754          -1689           1   \n",
       "5061207  House / apartment      -17754          -1689           1   \n",
       "5061210  House / apartment      -17754          -1689           1   \n",
       "5105054  House / apartment      -11057          -1853           1   \n",
       "\n",
       "         FLAG_WORK_PHONE  FLAG_PHONE  FLAG_EMAIL       OCCUPATION_TYPE  \\\n",
       "ID                                                                       \n",
       "5143180                0           0           0              Managers   \n",
       "5115801                1           0           0                   NaN   \n",
       "5115803                1           0           0                   NaN   \n",
       "5115805                1           0           0                   NaN   \n",
       "5115806                1           0           0                   NaN   \n",
       "...                  ...         ...         ...                   ...   \n",
       "5118331                1           1           0        Cleaning staff   \n",
       "5061211                0           0           0               Drivers   \n",
       "5061207                0           0           0               Drivers   \n",
       "5061210                0           0           0               Drivers   \n",
       "5105054                1           1           0  Waiters/barmen staff   \n",
       "\n",
       "         CNT_FAM_MEMBERS  \n",
       "ID                        \n",
       "5143180              1.0  \n",
       "5115801              1.0  \n",
       "5115803              1.0  \n",
       "5115805              1.0  \n",
       "5115806              1.0  \n",
       "...                  ...  \n",
       "5118331              9.0  \n",
       "5061211             15.0  \n",
       "5061207             15.0  \n",
       "5061210             15.0  \n",
       "5105054             20.0  \n",
       "\n",
       "[36287 rows x 18 columns]"
      ],
      "text/html": "<div>\n<style scoped>\n    .dataframe tbody tr th:only-of-type {\n        vertical-align: middle;\n    }\n\n    .dataframe tbody tr th {\n        vertical-align: top;\n    }\n\n    .dataframe thead th {\n        text-align: right;\n    }\n</style>\n<table border=\"1\" class=\"dataframe\">\n  <thead>\n    <tr style=\"text-align: right;\">\n      <th></th>\n      <th>STATUS</th>\n      <th>CODE_GENDER</th>\n      <th>FLAG_OWN_CAR</th>\n      <th>FLAG_OWN_REALTY</th>\n      <th>CNT_CHILDREN</th>\n      <th>AMT_INCOME_TOTAL</th>\n      <th>NAME_INCOME_TYPE</th>\n      <th>NAME_EDUCATION_TYPE</th>\n      <th>NAME_FAMILY_STATUS</th>\n      <th>NAME_HOUSING_TYPE</th>\n      <th>DAYS_BIRTH</th>\n      <th>DAYS_EMPLOYED</th>\n      <th>FLAG_MOBIL</th>\n      <th>FLAG_WORK_PHONE</th>\n      <th>FLAG_PHONE</th>\n      <th>FLAG_EMAIL</th>\n      <th>OCCUPATION_TYPE</th>\n      <th>CNT_FAM_MEMBERS</th>\n    </tr>\n    <tr>\n      <th>ID</th>\n      <th></th>\n      <th></th>\n      <th></th>\n      <th></th>\n      <th></th>\n      <th></th>\n      <th></th>\n      <th></th>\n      <th></th>\n      <th></th>\n      <th></th>\n      <th></th>\n      <th></th>\n      <th></th>\n      <th></th>\n      <th></th>\n      <th></th>\n      <th></th>\n    </tr>\n  </thead>\n  <tbody>\n    <tr>\n      <th>5143180</th>\n      <td>1</td>\n      <td>M</td>\n      <td>Y</td>\n      <td>N</td>\n      <td>0</td>\n      <td>225000.0</td>\n      <td>Commercial associate</td>\n      <td>Secondary / secondary special</td>\n      <td>Single / not married</td>\n      <td>House / apartment</td>\n      <td>-17473</td>\n      <td>-2631</td>\n      <td>1</td>\n      <td>0</td>\n      <td>0</td>\n      <td>0</td>\n      <td>Managers</td>\n      <td>1.0</td>\n    </tr>\n    <tr>\n      <th>5115801</th>\n      <td>-1</td>\n      <td>F</td>\n      <td>N</td>\n      <td>Y</td>\n      <td>0</td>\n      <td>202500.0</td>\n      <td>Working</td>\n      <td>Secondary / secondary special</td>\n      <td>Single / not married</td>\n      <td>House / apartment</td>\n      <td>-10752</td>\n      <td>-590</td>\n      <td>1</td>\n      <td>1</td>\n      <td>0</td>\n      <td>0</td>\n      <td>NaN</td>\n      <td>1.0</td>\n    </tr>\n    <tr>\n      <th>5115803</th>\n      <td>-1</td>\n      <td>F</td>\n      <td>N</td>\n      <td>Y</td>\n      <td>0</td>\n      <td>202500.0</td>\n      <td>Working</td>\n      <td>Secondary / secondary special</td>\n      <td>Single / not married</td>\n      <td>House / apartment</td>\n      <td>-10752</td>\n      <td>-590</td>\n      <td>1</td>\n      <td>1</td>\n      <td>0</td>\n      <td>0</td>\n      <td>NaN</td>\n      <td>1.0</td>\n    </tr>\n    <tr>\n      <th>5115805</th>\n      <td>-1</td>\n      <td>F</td>\n      <td>N</td>\n      <td>Y</td>\n      <td>0</td>\n      <td>202500.0</td>\n      <td>Working</td>\n      <td>Secondary / secondary special</td>\n      <td>Single / not married</td>\n      <td>House / apartment</td>\n      <td>-10752</td>\n      <td>-590</td>\n      <td>1</td>\n      <td>1</td>\n      <td>0</td>\n      <td>0</td>\n      <td>NaN</td>\n      <td>1.0</td>\n    </tr>\n    <tr>\n      <th>5115806</th>\n      <td>1</td>\n      <td>F</td>\n      <td>N</td>\n      <td>Y</td>\n      <td>0</td>\n      <td>202500.0</td>\n      <td>Working</td>\n      <td>Secondary / secondary special</td>\n      <td>Single / not married</td>\n      <td>House / apartment</td>\n      <td>-10752</td>\n      <td>-590</td>\n      <td>1</td>\n      <td>1</td>\n      <td>0</td>\n      <td>0</td>\n      <td>NaN</td>\n      <td>1.0</td>\n    </tr>\n    <tr>\n      <th>...</th>\n      <td>...</td>\n      <td>...</td>\n      <td>...</td>\n      <td>...</td>\n      <td>...</td>\n      <td>...</td>\n      <td>...</td>\n      <td>...</td>\n      <td>...</td>\n      <td>...</td>\n      <td>...</td>\n      <td>...</td>\n      <td>...</td>\n      <td>...</td>\n      <td>...</td>\n      <td>...</td>\n      <td>...</td>\n      <td>...</td>\n    </tr>\n    <tr>\n      <th>5118331</th>\n      <td>-2</td>\n      <td>F</td>\n      <td>N</td>\n      <td>N</td>\n      <td>7</td>\n      <td>157500.0</td>\n      <td>Working</td>\n      <td>Secondary / secondary special</td>\n      <td>Married</td>\n      <td>House / apartment</td>\n      <td>-13827</td>\n      <td>-1649</td>\n      <td>1</td>\n      <td>1</td>\n      <td>1</td>\n      <td>0</td>\n      <td>Cleaning staff</td>\n      <td>9.0</td>\n    </tr>\n    <tr>\n      <th>5061211</th>\n      <td>-1</td>\n      <td>M</td>\n      <td>Y</td>\n      <td>Y</td>\n      <td>14</td>\n      <td>225000.0</td>\n      <td>Working</td>\n      <td>Secondary / secondary special</td>\n      <td>Separated</td>\n      <td>House / apartment</td>\n      <td>-17754</td>\n      <td>-1689</td>\n      <td>1</td>\n      <td>0</td>\n      <td>0</td>\n      <td>0</td>\n      <td>Drivers</td>\n      <td>15.0</td>\n    </tr>\n    <tr>\n      <th>5061207</th>\n      <td>0</td>\n      <td>M</td>\n      <td>Y</td>\n      <td>Y</td>\n      <td>14</td>\n      <td>225000.0</td>\n      <td>Working</td>\n      <td>Secondary / secondary special</td>\n      <td>Separated</td>\n      <td>House / apartment</td>\n      <td>-17754</td>\n      <td>-1689</td>\n      <td>1</td>\n      <td>0</td>\n      <td>0</td>\n      <td>0</td>\n      <td>Drivers</td>\n      <td>15.0</td>\n    </tr>\n    <tr>\n      <th>5061210</th>\n      <td>-1</td>\n      <td>M</td>\n      <td>Y</td>\n      <td>Y</td>\n      <td>14</td>\n      <td>225000.0</td>\n      <td>Working</td>\n      <td>Secondary / secondary special</td>\n      <td>Separated</td>\n      <td>House / apartment</td>\n      <td>-17754</td>\n      <td>-1689</td>\n      <td>1</td>\n      <td>0</td>\n      <td>0</td>\n      <td>0</td>\n      <td>Drivers</td>\n      <td>15.0</td>\n    </tr>\n    <tr>\n      <th>5105054</th>\n      <td>-1</td>\n      <td>F</td>\n      <td>N</td>\n      <td>Y</td>\n      <td>19</td>\n      <td>112500.0</td>\n      <td>Working</td>\n      <td>Secondary / secondary special</td>\n      <td>Single / not married</td>\n      <td>House / apartment</td>\n      <td>-11057</td>\n      <td>-1853</td>\n      <td>1</td>\n      <td>1</td>\n      <td>1</td>\n      <td>0</td>\n      <td>Waiters/barmen staff</td>\n      <td>20.0</td>\n    </tr>\n  </tbody>\n</table>\n<p>36287 rows × 18 columns</p>\n</div>"
     },
     "metadata": {},
     "execution_count": 7
    }
   ],
   "source": [
    "predictors = [\n",
    "    \"CODE_GENDER\",\n",
    "    \"FLAG_OWN_CAR\",\n",
    "    \"FLAG_OWN_REALTY\",\n",
    "    \"CNT_CHILDREN\",\n",
    "    \"AMT_INCOME_TOTAL\",\n",
    "    \"NAME_INCOME_TYPE\",\n",
    "    \"NAME_EDUCATION_TYPE\",\n",
    "    \"NAME_FAMILY_STATUS\",\n",
    "    \"NAME_HOUSING_TYPE\",\n",
    "    \"DAYS_BIRTH\",\n",
    "    \"DAYS_EMPLOYED\",\n",
    "    \"FLAG_MOBIL\",\n",
    "    \"FLAG_WORK_PHONE\",\n",
    "    \"FLAG_PHONE\",\n",
    "    \"FLAG_EMAIL\",\n",
    "    \"OCCUPATION_TYPE\",\n",
    "    \"CNT_FAM_MEMBERS\"\n",
    "]\n",
    "\n",
    "train_by_ID = train[[\"ID\", \"STATUS\"]+predictors].drop_duplicates(\"ID\")\n",
    "train_by_ID.set_index(\"ID\", inplace=True)\n",
    "train_by_ID"
   ]
  },
  {
   "cell_type": "code",
   "execution_count": 13,
   "metadata": {},
   "outputs": [],
   "source": [
    "dtr_byid = DecisionTreeRegressor()\n",
    "dtr_byid.fit(X=pd.get_dummies(train_by_ID.loc[:, predictors]), y=pmfs)\n",
    "\n",
    "actual_pmfs = pd.read_pickle(\"model_evaluation/actual_pmfs.pkl\").values\n",
    "pred_pmfs = dtr_byid.predict(pd.get_dummies(test[predictors]))\n",
    "pred_pmfs_normed = pred_pmfs / np.sum(pred_pmfs)\n",
    "model_msqe = np.sqrt(np.mean((pred_pmfs - actual_pmfs)**2, axis=0))\n",
    "\n",
    "nullhypo_preds = pd.Series(0, index=statuses)\n",
    "pcts = train_by_ID[\"STATUS\"].value_counts() / train_by_ID.shape[0]\n",
    "nullhypo_preds[pcts.index] = pcts\n",
    "nullhypo_preds.sort_index(inplace=True)\n",
    "nullhypo_msqe = np.sqrt(np.mean((nullhypo_preds.values - actual_pmfs)**2, axis=0))"
   ]
  },
  {
   "cell_type": "code",
   "execution_count": 14,
   "metadata": {},
   "outputs": [
    {
     "output_type": "execute_result",
     "data": {
      "text/plain": [
       "(array([0.03052437, 0.00816284, 0.00986344, 0.01792789, 0.08210412,\n",
       "        0.44012571, 0.39650742, 0.42741394]),\n",
       " array([0.02763189, 0.0079183 , 0.00953302, 0.01698319, 0.07643279,\n",
       "        0.39024408, 0.34973879, 0.37957839]))"
      ]
     },
     "metadata": {},
     "execution_count": 14
    }
   ],
   "source": [
    "model_msqe, nullhypo_msqe"
   ]
  },
  {
   "source": [
    "Regressor consistently worse than the null hypothesis when training by ID.  Let's try letting each month count as its own row instead."
   ],
   "cell_type": "markdown",
   "metadata": {}
  },
  {
   "cell_type": "code",
   "execution_count": 8,
   "metadata": {},
   "outputs": [],
   "source": [
    "for status in statuses:\n",
    "    train[status] = 0.0\n",
    "train.set_index(\"ID\", inplace=True)"
   ]
  },
  {
   "cell_type": "code",
   "execution_count": 9,
   "metadata": {},
   "outputs": [
    {
     "output_type": "execute_result",
     "data": {
      "text/plain": [
       "         Unnamed: 0  MONTHS_BALANCE  STATUS CODE_GENDER FLAG_OWN_CAR  \\\n",
       "ID                                                                     \n",
       "5143180      724670              -1       1           M            Y   \n",
       "5115801      587357             -23      -1           F            N   \n",
       "5115801      587361             -27      -1           F            N   \n",
       "5115803      587393             -43      -1           F            N   \n",
       "5115805      587432             -38      -1           F            N   \n",
       "...             ...             ...     ...         ...          ...   \n",
       "5105054      523726              -4      -1           F            N   \n",
       "5105054      523724              -2      -1           F            N   \n",
       "5105054      523725              -3      -1           F            N   \n",
       "5105054      523727              -5      -1           F            N   \n",
       "5105054      523723              -1      -1           F            N   \n",
       "\n",
       "        FLAG_OWN_REALTY  CNT_CHILDREN  AMT_INCOME_TOTAL      NAME_INCOME_TYPE  \\\n",
       "ID                                                                              \n",
       "5143180               N             0          225000.0  Commercial associate   \n",
       "5115801               Y             0          202500.0               Working   \n",
       "5115801               Y             0          202500.0               Working   \n",
       "5115803               Y             0          202500.0               Working   \n",
       "5115805               Y             0          202500.0               Working   \n",
       "...                 ...           ...               ...                   ...   \n",
       "5105054               Y            19          112500.0               Working   \n",
       "5105054               Y            19          112500.0               Working   \n",
       "5105054               Y            19          112500.0               Working   \n",
       "5105054               Y            19          112500.0               Working   \n",
       "5105054               Y            19          112500.0               Working   \n",
       "\n",
       "                   NAME_EDUCATION_TYPE  ...       OCCUPATION_TYPE  \\\n",
       "ID                                      ...                         \n",
       "5143180  Secondary / secondary special  ...              Managers   \n",
       "5115801  Secondary / secondary special  ...                   NaN   \n",
       "5115801  Secondary / secondary special  ...                   NaN   \n",
       "5115803  Secondary / secondary special  ...                   NaN   \n",
       "5115805  Secondary / secondary special  ...                   NaN   \n",
       "...                                ...  ...                   ...   \n",
       "5105054  Secondary / secondary special  ...  Waiters/barmen staff   \n",
       "5105054  Secondary / secondary special  ...  Waiters/barmen staff   \n",
       "5105054  Secondary / secondary special  ...  Waiters/barmen staff   \n",
       "5105054  Secondary / secondary special  ...  Waiters/barmen staff   \n",
       "5105054  Secondary / secondary special  ...  Waiters/barmen staff   \n",
       "\n",
       "        CNT_FAM_MEMBERS   -6   -5   -4   -3        -2        -1         0  \\\n",
       "ID                                                                          \n",
       "5143180             1.0  0.0  0.0  0.0  0.0  0.000000  0.333333  0.000000   \n",
       "5115801             1.0  0.0  0.0  0.0  0.0  0.166667  0.666667  0.166667   \n",
       "5115801             1.0  0.0  0.0  0.0  0.0  0.166667  0.666667  0.166667   \n",
       "5115803             1.0  0.0  0.0  0.0  0.0  0.000000  1.000000  0.000000   \n",
       "5115805             1.0  0.0  0.0  0.0  0.0  0.000000  0.250000  0.041667   \n",
       "...                 ...  ...  ...  ...  ...       ...       ...       ...   \n",
       "5105054            20.0  0.0  0.0  0.0  0.0  0.000000  1.000000  0.000000   \n",
       "5105054            20.0  0.0  0.0  0.0  0.0  0.000000  1.000000  0.000000   \n",
       "5105054            20.0  0.0  0.0  0.0  0.0  0.000000  1.000000  0.000000   \n",
       "5105054            20.0  0.0  0.0  0.0  0.0  0.000000  1.000000  0.000000   \n",
       "5105054            20.0  0.0  0.0  0.0  0.0  0.000000  1.000000  0.000000   \n",
       "\n",
       "                1  \n",
       "ID                 \n",
       "5143180  0.666667  \n",
       "5115801  0.000000  \n",
       "5115801  0.000000  \n",
       "5115803  0.000000  \n",
       "5115805  0.708333  \n",
       "...           ...  \n",
       "5105054  0.000000  \n",
       "5105054  0.000000  \n",
       "5105054  0.000000  \n",
       "5105054  0.000000  \n",
       "5105054  0.000000  \n",
       "\n",
       "[583286 rows x 28 columns]"
      ],
      "text/html": "<div>\n<style scoped>\n    .dataframe tbody tr th:only-of-type {\n        vertical-align: middle;\n    }\n\n    .dataframe tbody tr th {\n        vertical-align: top;\n    }\n\n    .dataframe thead th {\n        text-align: right;\n    }\n</style>\n<table border=\"1\" class=\"dataframe\">\n  <thead>\n    <tr style=\"text-align: right;\">\n      <th></th>\n      <th>Unnamed: 0</th>\n      <th>MONTHS_BALANCE</th>\n      <th>STATUS</th>\n      <th>CODE_GENDER</th>\n      <th>FLAG_OWN_CAR</th>\n      <th>FLAG_OWN_REALTY</th>\n      <th>CNT_CHILDREN</th>\n      <th>AMT_INCOME_TOTAL</th>\n      <th>NAME_INCOME_TYPE</th>\n      <th>NAME_EDUCATION_TYPE</th>\n      <th>...</th>\n      <th>OCCUPATION_TYPE</th>\n      <th>CNT_FAM_MEMBERS</th>\n      <th>-6</th>\n      <th>-5</th>\n      <th>-4</th>\n      <th>-3</th>\n      <th>-2</th>\n      <th>-1</th>\n      <th>0</th>\n      <th>1</th>\n    </tr>\n    <tr>\n      <th>ID</th>\n      <th></th>\n      <th></th>\n      <th></th>\n      <th></th>\n      <th></th>\n      <th></th>\n      <th></th>\n      <th></th>\n      <th></th>\n      <th></th>\n      <th></th>\n      <th></th>\n      <th></th>\n      <th></th>\n      <th></th>\n      <th></th>\n      <th></th>\n      <th></th>\n      <th></th>\n      <th></th>\n      <th></th>\n    </tr>\n  </thead>\n  <tbody>\n    <tr>\n      <th>5143180</th>\n      <td>724670</td>\n      <td>-1</td>\n      <td>1</td>\n      <td>M</td>\n      <td>Y</td>\n      <td>N</td>\n      <td>0</td>\n      <td>225000.0</td>\n      <td>Commercial associate</td>\n      <td>Secondary / secondary special</td>\n      <td>...</td>\n      <td>Managers</td>\n      <td>1.0</td>\n      <td>0.0</td>\n      <td>0.0</td>\n      <td>0.0</td>\n      <td>0.0</td>\n      <td>0.000000</td>\n      <td>0.333333</td>\n      <td>0.000000</td>\n      <td>0.666667</td>\n    </tr>\n    <tr>\n      <th>5115801</th>\n      <td>587357</td>\n      <td>-23</td>\n      <td>-1</td>\n      <td>F</td>\n      <td>N</td>\n      <td>Y</td>\n      <td>0</td>\n      <td>202500.0</td>\n      <td>Working</td>\n      <td>Secondary / secondary special</td>\n      <td>...</td>\n      <td>NaN</td>\n      <td>1.0</td>\n      <td>0.0</td>\n      <td>0.0</td>\n      <td>0.0</td>\n      <td>0.0</td>\n      <td>0.166667</td>\n      <td>0.666667</td>\n      <td>0.166667</td>\n      <td>0.000000</td>\n    </tr>\n    <tr>\n      <th>5115801</th>\n      <td>587361</td>\n      <td>-27</td>\n      <td>-1</td>\n      <td>F</td>\n      <td>N</td>\n      <td>Y</td>\n      <td>0</td>\n      <td>202500.0</td>\n      <td>Working</td>\n      <td>Secondary / secondary special</td>\n      <td>...</td>\n      <td>NaN</td>\n      <td>1.0</td>\n      <td>0.0</td>\n      <td>0.0</td>\n      <td>0.0</td>\n      <td>0.0</td>\n      <td>0.166667</td>\n      <td>0.666667</td>\n      <td>0.166667</td>\n      <td>0.000000</td>\n    </tr>\n    <tr>\n      <th>5115803</th>\n      <td>587393</td>\n      <td>-43</td>\n      <td>-1</td>\n      <td>F</td>\n      <td>N</td>\n      <td>Y</td>\n      <td>0</td>\n      <td>202500.0</td>\n      <td>Working</td>\n      <td>Secondary / secondary special</td>\n      <td>...</td>\n      <td>NaN</td>\n      <td>1.0</td>\n      <td>0.0</td>\n      <td>0.0</td>\n      <td>0.0</td>\n      <td>0.0</td>\n      <td>0.000000</td>\n      <td>1.000000</td>\n      <td>0.000000</td>\n      <td>0.000000</td>\n    </tr>\n    <tr>\n      <th>5115805</th>\n      <td>587432</td>\n      <td>-38</td>\n      <td>-1</td>\n      <td>F</td>\n      <td>N</td>\n      <td>Y</td>\n      <td>0</td>\n      <td>202500.0</td>\n      <td>Working</td>\n      <td>Secondary / secondary special</td>\n      <td>...</td>\n      <td>NaN</td>\n      <td>1.0</td>\n      <td>0.0</td>\n      <td>0.0</td>\n      <td>0.0</td>\n      <td>0.0</td>\n      <td>0.000000</td>\n      <td>0.250000</td>\n      <td>0.041667</td>\n      <td>0.708333</td>\n    </tr>\n    <tr>\n      <th>...</th>\n      <td>...</td>\n      <td>...</td>\n      <td>...</td>\n      <td>...</td>\n      <td>...</td>\n      <td>...</td>\n      <td>...</td>\n      <td>...</td>\n      <td>...</td>\n      <td>...</td>\n      <td>...</td>\n      <td>...</td>\n      <td>...</td>\n      <td>...</td>\n      <td>...</td>\n      <td>...</td>\n      <td>...</td>\n      <td>...</td>\n      <td>...</td>\n      <td>...</td>\n      <td>...</td>\n    </tr>\n    <tr>\n      <th>5105054</th>\n      <td>523726</td>\n      <td>-4</td>\n      <td>-1</td>\n      <td>F</td>\n      <td>N</td>\n      <td>Y</td>\n      <td>19</td>\n      <td>112500.0</td>\n      <td>Working</td>\n      <td>Secondary / secondary special</td>\n      <td>...</td>\n      <td>Waiters/barmen staff</td>\n      <td>20.0</td>\n      <td>0.0</td>\n      <td>0.0</td>\n      <td>0.0</td>\n      <td>0.0</td>\n      <td>0.000000</td>\n      <td>1.000000</td>\n      <td>0.000000</td>\n      <td>0.000000</td>\n    </tr>\n    <tr>\n      <th>5105054</th>\n      <td>523724</td>\n      <td>-2</td>\n      <td>-1</td>\n      <td>F</td>\n      <td>N</td>\n      <td>Y</td>\n      <td>19</td>\n      <td>112500.0</td>\n      <td>Working</td>\n      <td>Secondary / secondary special</td>\n      <td>...</td>\n      <td>Waiters/barmen staff</td>\n      <td>20.0</td>\n      <td>0.0</td>\n      <td>0.0</td>\n      <td>0.0</td>\n      <td>0.0</td>\n      <td>0.000000</td>\n      <td>1.000000</td>\n      <td>0.000000</td>\n      <td>0.000000</td>\n    </tr>\n    <tr>\n      <th>5105054</th>\n      <td>523725</td>\n      <td>-3</td>\n      <td>-1</td>\n      <td>F</td>\n      <td>N</td>\n      <td>Y</td>\n      <td>19</td>\n      <td>112500.0</td>\n      <td>Working</td>\n      <td>Secondary / secondary special</td>\n      <td>...</td>\n      <td>Waiters/barmen staff</td>\n      <td>20.0</td>\n      <td>0.0</td>\n      <td>0.0</td>\n      <td>0.0</td>\n      <td>0.0</td>\n      <td>0.000000</td>\n      <td>1.000000</td>\n      <td>0.000000</td>\n      <td>0.000000</td>\n    </tr>\n    <tr>\n      <th>5105054</th>\n      <td>523727</td>\n      <td>-5</td>\n      <td>-1</td>\n      <td>F</td>\n      <td>N</td>\n      <td>Y</td>\n      <td>19</td>\n      <td>112500.0</td>\n      <td>Working</td>\n      <td>Secondary / secondary special</td>\n      <td>...</td>\n      <td>Waiters/barmen staff</td>\n      <td>20.0</td>\n      <td>0.0</td>\n      <td>0.0</td>\n      <td>0.0</td>\n      <td>0.0</td>\n      <td>0.000000</td>\n      <td>1.000000</td>\n      <td>0.000000</td>\n      <td>0.000000</td>\n    </tr>\n    <tr>\n      <th>5105054</th>\n      <td>523723</td>\n      <td>-1</td>\n      <td>-1</td>\n      <td>F</td>\n      <td>N</td>\n      <td>Y</td>\n      <td>19</td>\n      <td>112500.0</td>\n      <td>Working</td>\n      <td>Secondary / secondary special</td>\n      <td>...</td>\n      <td>Waiters/barmen staff</td>\n      <td>20.0</td>\n      <td>0.0</td>\n      <td>0.0</td>\n      <td>0.0</td>\n      <td>0.0</td>\n      <td>0.000000</td>\n      <td>1.000000</td>\n      <td>0.000000</td>\n      <td>0.000000</td>\n    </tr>\n  </tbody>\n</table>\n<p>583286 rows × 28 columns</p>\n</div>"
     },
     "metadata": {},
     "execution_count": 9
    }
   ],
   "source": [
    "train.loc[:, statuses] = pmfs\n",
    "train"
   ]
  },
  {
   "cell_type": "code",
   "execution_count": 10,
   "metadata": {},
   "outputs": [],
   "source": [
    "train.to_pickle(\"data/train_w_pmfs.pkl\")"
   ]
  },
  {
   "cell_type": "code",
   "execution_count": 20,
   "metadata": {},
   "outputs": [
    {
     "output_type": "execute_result",
     "data": {
      "text/plain": [
       "(array([0.0311273 , 0.008242  , 0.00987196, 0.01819711, 0.08342693,\n",
       "        0.45568614, 0.41410282, 0.44536023]),\n",
       " array([0.0276366 , 0.00791825, 0.00953134, 0.01698369, 0.07645037,\n",
       "        0.39924717, 0.34991572, 0.39188796]))"
      ]
     },
     "metadata": {},
     "execution_count": 20
    }
   ],
   "source": [
    "dtr = DecisionTreeRegressor()\n",
    "dtr.fit(X=pd.get_dummies(train.loc[:, predictors]), y=train.loc[:, statuses])\n",
    "\n",
    "pred_pmfs = dtr.predict(pd.get_dummies(test[predictors]))\n",
    "pred_pmfs_normed = pred_pmfs / np.sum(pred_pmfs)\n",
    "actual_pmfs = pd.read_pickle(\"model_evaluation/actual_pmfs.pkl\").values\n",
    "model_msqe = np.sqrt(np.mean((pred_pmfs - actual_pmfs)**2, axis=0))\n",
    "\n",
    "nullhypo_preds = pd.Series(0, index=statuses)\n",
    "pcts = train[\"STATUS\"].value_counts() / train.shape[0]\n",
    "nullhypo_preds[pcts.index] = pcts\n",
    "nullhypo_msqe = np.sqrt(np.mean((nullhypo_preds.values - actual_pmfs)**2, axis=0))\n",
    "\n",
    "model_msqe, nullhypo_msqe"
   ]
  },
  {
   "source": [
    "The regression model still performs worse than the null hypothesis."
   ],
   "cell_type": "markdown",
   "metadata": {}
  },
  {
   "source": [
    "Try a list of XGBoostRegressors, one for each status."
   ],
   "cell_type": "markdown",
   "metadata": {}
  },
  {
   "cell_type": "code",
   "execution_count": 21,
   "metadata": {},
   "outputs": [
    {
     "output_type": "stream",
     "name": "stdout",
     "text": [
      "training...\n",
      "training...\n",
      "training...\n",
      "training...\n",
      "training...\n",
      "training...\n",
      "training...\n",
      "training...\n"
     ]
    }
   ],
   "source": [
    "from xgboost import XGBRegressor\n",
    "\n",
    "xg_regressors = {\n",
    "    target_status: XGBRegressor(n_estimators=10)\n",
    "    for target_status in range(-6,2)\n",
    "}\n",
    "\n",
    "for target_status, regressor in xg_regressors.items():\n",
    "    print(\"training...\")\n",
    "    regressor.fit(X=pd.get_dummies(train.loc[:, predictors]), y=train.loc[:, target_status])"
   ]
  },
  {
   "cell_type": "code",
   "execution_count": 26,
   "metadata": {},
   "outputs": [],
   "source": [
    "predictions = np.array([\n",
    "    regressor.predict(pd.get_dummies(test[predictors]))\n",
    "    for regressor in xg_regressors.values()\n",
    "]).T"
   ]
  },
  {
   "cell_type": "code",
   "execution_count": 28,
   "metadata": {},
   "outputs": [
    {
     "output_type": "execute_result",
     "data": {
      "text/plain": [
       "array([0.03181428, 0.01615155, 0.01700233, 0.02216119, 0.07815231,\n",
       "       0.39183402, 0.35184989, 0.38114774])"
      ]
     },
     "metadata": {},
     "execution_count": 28
    }
   ],
   "source": [
    "np.sqrt(np.mean((predictions - actual_pmfs)**2, axis=0))"
   ]
  },
  {
   "source": [
    "This also performs worse than the null hypothesis."
   ],
   "cell_type": "markdown",
   "metadata": {}
  },
  {
   "source": [
    "from sklearn.ensemble import GradientBoostingRegressor\n",
    "\n",
    "gbr = GradientBoostingRegressor()\n",
    "gbr.fit()"
   ],
   "cell_type": "code",
   "metadata": {},
   "execution_count": null,
   "outputs": []
  }
 ]
}