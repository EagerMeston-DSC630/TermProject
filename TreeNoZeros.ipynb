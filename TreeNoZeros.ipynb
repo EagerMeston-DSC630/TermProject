{
 "metadata": {
  "language_info": {
   "codemirror_mode": {
    "name": "ipython",
    "version": 3
   },
   "file_extension": ".py",
   "mimetype": "text/x-python",
   "name": "python",
   "nbconvert_exporter": "python",
   "pygments_lexer": "ipython3",
   "version": "3.8.3-final"
  },
  "orig_nbformat": 2,
  "kernelspec": {
   "name": "python3",
   "display_name": "Python 3"
  }
 },
 "nbformat": 4,
 "nbformat_minor": 2,
 "cells": [
  {
   "cell_type": "code",
   "execution_count": 11,
   "metadata": {},
   "outputs": [],
   "source": [
    "import pandas as pd\n",
    "from credit_decision_tree import DecisionTree"
   ]
  },
  {
   "cell_type": "code",
   "execution_count": 4,
   "metadata": {},
   "outputs": [
    {
     "output_type": "execute_result",
     "data": {
      "text/plain": [
       "        Unnamed: 0       ID  MONTHS_BALANCE  STATUS CODE_GENDER FLAG_OWN_CAR  \\\n",
       "724670      724670  5143180              -1       1           M            Y   \n",
       "587357      587357  5115801             -23      -1           F            N   \n",
       "587361      587361  5115801             -27      -1           F            N   \n",
       "587393      587393  5115803             -43      -1           F            N   \n",
       "587432      587432  5115805             -38      -1           F            N   \n",
       "...            ...      ...             ...     ...         ...          ...   \n",
       "523726      523726  5105054              -4      -1           F            N   \n",
       "523724      523724  5105054              -2      -1           F            N   \n",
       "523725      523725  5105054              -3      -1           F            N   \n",
       "523727      523727  5105054              -5      -1           F            N   \n",
       "523723      523723  5105054              -1      -1           F            N   \n",
       "\n",
       "       FLAG_OWN_REALTY  CNT_CHILDREN  AMT_INCOME_TOTAL      NAME_INCOME_TYPE  \\\n",
       "724670               N             0          225000.0  Commercial associate   \n",
       "587357               Y             0          202500.0               Working   \n",
       "587361               Y             0          202500.0               Working   \n",
       "587393               Y             0          202500.0               Working   \n",
       "587432               Y             0          202500.0               Working   \n",
       "...                ...           ...               ...                   ...   \n",
       "523726               Y            19          112500.0               Working   \n",
       "523724               Y            19          112500.0               Working   \n",
       "523725               Y            19          112500.0               Working   \n",
       "523727               Y            19          112500.0               Working   \n",
       "523723               Y            19          112500.0               Working   \n",
       "\n",
       "        ...    NAME_FAMILY_STATUS  NAME_HOUSING_TYPE DAYS_BIRTH  \\\n",
       "724670  ...  Single / not married  House / apartment     -17473   \n",
       "587357  ...  Single / not married  House / apartment     -10752   \n",
       "587361  ...  Single / not married  House / apartment     -10752   \n",
       "587393  ...  Single / not married  House / apartment     -10752   \n",
       "587432  ...  Single / not married  House / apartment     -10752   \n",
       "...     ...                   ...                ...        ...   \n",
       "523726  ...  Single / not married  House / apartment     -11057   \n",
       "523724  ...  Single / not married  House / apartment     -11057   \n",
       "523725  ...  Single / not married  House / apartment     -11057   \n",
       "523727  ...  Single / not married  House / apartment     -11057   \n",
       "523723  ...  Single / not married  House / apartment     -11057   \n",
       "\n",
       "        DAYS_EMPLOYED  FLAG_MOBIL  FLAG_WORK_PHONE  FLAG_PHONE  FLAG_EMAIL  \\\n",
       "724670          -2631           1                0           0           0   \n",
       "587357           -590           1                1           0           0   \n",
       "587361           -590           1                1           0           0   \n",
       "587393           -590           1                1           0           0   \n",
       "587432           -590           1                1           0           0   \n",
       "...               ...         ...              ...         ...         ...   \n",
       "523726          -1853           1                1           1           0   \n",
       "523724          -1853           1                1           1           0   \n",
       "523725          -1853           1                1           1           0   \n",
       "523727          -1853           1                1           1           0   \n",
       "523723          -1853           1                1           1           0   \n",
       "\n",
       "             OCCUPATION_TYPE CNT_FAM_MEMBERS  \n",
       "724670              Managers             1.0  \n",
       "587357                   NaN             1.0  \n",
       "587361                   NaN             1.0  \n",
       "587393                   NaN             1.0  \n",
       "587432                   NaN             1.0  \n",
       "...                      ...             ...  \n",
       "523726  Waiters/barmen staff            20.0  \n",
       "523724  Waiters/barmen staff            20.0  \n",
       "523725  Waiters/barmen staff            20.0  \n",
       "523727  Waiters/barmen staff            20.0  \n",
       "523723  Waiters/barmen staff            20.0  \n",
       "\n",
       "[473960 rows x 21 columns]"
      ],
      "text/html": "<div>\n<style scoped>\n    .dataframe tbody tr th:only-of-type {\n        vertical-align: middle;\n    }\n\n    .dataframe tbody tr th {\n        vertical-align: top;\n    }\n\n    .dataframe thead th {\n        text-align: right;\n    }\n</style>\n<table border=\"1\" class=\"dataframe\">\n  <thead>\n    <tr style=\"text-align: right;\">\n      <th></th>\n      <th>Unnamed: 0</th>\n      <th>ID</th>\n      <th>MONTHS_BALANCE</th>\n      <th>STATUS</th>\n      <th>CODE_GENDER</th>\n      <th>FLAG_OWN_CAR</th>\n      <th>FLAG_OWN_REALTY</th>\n      <th>CNT_CHILDREN</th>\n      <th>AMT_INCOME_TOTAL</th>\n      <th>NAME_INCOME_TYPE</th>\n      <th>...</th>\n      <th>NAME_FAMILY_STATUS</th>\n      <th>NAME_HOUSING_TYPE</th>\n      <th>DAYS_BIRTH</th>\n      <th>DAYS_EMPLOYED</th>\n      <th>FLAG_MOBIL</th>\n      <th>FLAG_WORK_PHONE</th>\n      <th>FLAG_PHONE</th>\n      <th>FLAG_EMAIL</th>\n      <th>OCCUPATION_TYPE</th>\n      <th>CNT_FAM_MEMBERS</th>\n    </tr>\n  </thead>\n  <tbody>\n    <tr>\n      <th>724670</th>\n      <td>724670</td>\n      <td>5143180</td>\n      <td>-1</td>\n      <td>1</td>\n      <td>M</td>\n      <td>Y</td>\n      <td>N</td>\n      <td>0</td>\n      <td>225000.0</td>\n      <td>Commercial associate</td>\n      <td>...</td>\n      <td>Single / not married</td>\n      <td>House / apartment</td>\n      <td>-17473</td>\n      <td>-2631</td>\n      <td>1</td>\n      <td>0</td>\n      <td>0</td>\n      <td>0</td>\n      <td>Managers</td>\n      <td>1.0</td>\n    </tr>\n    <tr>\n      <th>587357</th>\n      <td>587357</td>\n      <td>5115801</td>\n      <td>-23</td>\n      <td>-1</td>\n      <td>F</td>\n      <td>N</td>\n      <td>Y</td>\n      <td>0</td>\n      <td>202500.0</td>\n      <td>Working</td>\n      <td>...</td>\n      <td>Single / not married</td>\n      <td>House / apartment</td>\n      <td>-10752</td>\n      <td>-590</td>\n      <td>1</td>\n      <td>1</td>\n      <td>0</td>\n      <td>0</td>\n      <td>NaN</td>\n      <td>1.0</td>\n    </tr>\n    <tr>\n      <th>587361</th>\n      <td>587361</td>\n      <td>5115801</td>\n      <td>-27</td>\n      <td>-1</td>\n      <td>F</td>\n      <td>N</td>\n      <td>Y</td>\n      <td>0</td>\n      <td>202500.0</td>\n      <td>Working</td>\n      <td>...</td>\n      <td>Single / not married</td>\n      <td>House / apartment</td>\n      <td>-10752</td>\n      <td>-590</td>\n      <td>1</td>\n      <td>1</td>\n      <td>0</td>\n      <td>0</td>\n      <td>NaN</td>\n      <td>1.0</td>\n    </tr>\n    <tr>\n      <th>587393</th>\n      <td>587393</td>\n      <td>5115803</td>\n      <td>-43</td>\n      <td>-1</td>\n      <td>F</td>\n      <td>N</td>\n      <td>Y</td>\n      <td>0</td>\n      <td>202500.0</td>\n      <td>Working</td>\n      <td>...</td>\n      <td>Single / not married</td>\n      <td>House / apartment</td>\n      <td>-10752</td>\n      <td>-590</td>\n      <td>1</td>\n      <td>1</td>\n      <td>0</td>\n      <td>0</td>\n      <td>NaN</td>\n      <td>1.0</td>\n    </tr>\n    <tr>\n      <th>587432</th>\n      <td>587432</td>\n      <td>5115805</td>\n      <td>-38</td>\n      <td>-1</td>\n      <td>F</td>\n      <td>N</td>\n      <td>Y</td>\n      <td>0</td>\n      <td>202500.0</td>\n      <td>Working</td>\n      <td>...</td>\n      <td>Single / not married</td>\n      <td>House / apartment</td>\n      <td>-10752</td>\n      <td>-590</td>\n      <td>1</td>\n      <td>1</td>\n      <td>0</td>\n      <td>0</td>\n      <td>NaN</td>\n      <td>1.0</td>\n    </tr>\n    <tr>\n      <th>...</th>\n      <td>...</td>\n      <td>...</td>\n      <td>...</td>\n      <td>...</td>\n      <td>...</td>\n      <td>...</td>\n      <td>...</td>\n      <td>...</td>\n      <td>...</td>\n      <td>...</td>\n      <td>...</td>\n      <td>...</td>\n      <td>...</td>\n      <td>...</td>\n      <td>...</td>\n      <td>...</td>\n      <td>...</td>\n      <td>...</td>\n      <td>...</td>\n      <td>...</td>\n      <td>...</td>\n    </tr>\n    <tr>\n      <th>523726</th>\n      <td>523726</td>\n      <td>5105054</td>\n      <td>-4</td>\n      <td>-1</td>\n      <td>F</td>\n      <td>N</td>\n      <td>Y</td>\n      <td>19</td>\n      <td>112500.0</td>\n      <td>Working</td>\n      <td>...</td>\n      <td>Single / not married</td>\n      <td>House / apartment</td>\n      <td>-11057</td>\n      <td>-1853</td>\n      <td>1</td>\n      <td>1</td>\n      <td>1</td>\n      <td>0</td>\n      <td>Waiters/barmen staff</td>\n      <td>20.0</td>\n    </tr>\n    <tr>\n      <th>523724</th>\n      <td>523724</td>\n      <td>5105054</td>\n      <td>-2</td>\n      <td>-1</td>\n      <td>F</td>\n      <td>N</td>\n      <td>Y</td>\n      <td>19</td>\n      <td>112500.0</td>\n      <td>Working</td>\n      <td>...</td>\n      <td>Single / not married</td>\n      <td>House / apartment</td>\n      <td>-11057</td>\n      <td>-1853</td>\n      <td>1</td>\n      <td>1</td>\n      <td>1</td>\n      <td>0</td>\n      <td>Waiters/barmen staff</td>\n      <td>20.0</td>\n    </tr>\n    <tr>\n      <th>523725</th>\n      <td>523725</td>\n      <td>5105054</td>\n      <td>-3</td>\n      <td>-1</td>\n      <td>F</td>\n      <td>N</td>\n      <td>Y</td>\n      <td>19</td>\n      <td>112500.0</td>\n      <td>Working</td>\n      <td>...</td>\n      <td>Single / not married</td>\n      <td>House / apartment</td>\n      <td>-11057</td>\n      <td>-1853</td>\n      <td>1</td>\n      <td>1</td>\n      <td>1</td>\n      <td>0</td>\n      <td>Waiters/barmen staff</td>\n      <td>20.0</td>\n    </tr>\n    <tr>\n      <th>523727</th>\n      <td>523727</td>\n      <td>5105054</td>\n      <td>-5</td>\n      <td>-1</td>\n      <td>F</td>\n      <td>N</td>\n      <td>Y</td>\n      <td>19</td>\n      <td>112500.0</td>\n      <td>Working</td>\n      <td>...</td>\n      <td>Single / not married</td>\n      <td>House / apartment</td>\n      <td>-11057</td>\n      <td>-1853</td>\n      <td>1</td>\n      <td>1</td>\n      <td>1</td>\n      <td>0</td>\n      <td>Waiters/barmen staff</td>\n      <td>20.0</td>\n    </tr>\n    <tr>\n      <th>523723</th>\n      <td>523723</td>\n      <td>5105054</td>\n      <td>-1</td>\n      <td>-1</td>\n      <td>F</td>\n      <td>N</td>\n      <td>Y</td>\n      <td>19</td>\n      <td>112500.0</td>\n      <td>Working</td>\n      <td>...</td>\n      <td>Single / not married</td>\n      <td>House / apartment</td>\n      <td>-11057</td>\n      <td>-1853</td>\n      <td>1</td>\n      <td>1</td>\n      <td>1</td>\n      <td>0</td>\n      <td>Waiters/barmen staff</td>\n      <td>20.0</td>\n    </tr>\n  </tbody>\n</table>\n<p>473960 rows × 21 columns</p>\n</div>"
     },
     "metadata": {},
     "execution_count": 4
    }
   ],
   "source": [
    "train_no_zeros = pd.read_pickle(\"model_evaluation/train.pkl\")\n",
    "train_no_zeros.drop(train_no_zeros[train_no_zeros[\"STATUS\"] == 0].index, inplace=True)\n",
    "train_no_zeros"
   ]
  },
  {
   "cell_type": "code",
   "execution_count": 6,
   "metadata": {},
   "outputs": [
    {
     "output_type": "execute_result",
     "data": {
      "text/plain": [
       "        Unnamed: 0       ID  MONTHS_BALANCE  STATUS CODE_GENDER FLAG_OWN_CAR  \\\n",
       "513210      513210  5100075             -36       1           F            Y   \n",
       "532723      532723  5105565             -54      -1           M            N   \n",
       "486463      486463  5095815             -43       1           F            N   \n",
       "291376      291376  5061068              -5      -1           M            Y   \n",
       "314380      314380  5062123              -1      -1           F            N   \n",
       "...            ...      ...             ...     ...         ...          ...   \n",
       "594777      594777  5116236             -12       1           M            N   \n",
       "594681      594681  5116226             -34       1           M            Y   \n",
       "170764      170764  5038688             -26      -1           F            Y   \n",
       "762655      762655  5149393              -1       1           F            N   \n",
       "148678      148678  5033920             -32      -1           M            Y   \n",
       "\n",
       "       FLAG_OWN_REALTY  CNT_CHILDREN  AMT_INCOME_TOTAL      NAME_INCOME_TYPE  \\\n",
       "513210               Y             0          112500.0             Pensioner   \n",
       "532723               Y             0          135000.0             Pensioner   \n",
       "486463               N             3          112500.0               Working   \n",
       "291376               N             0          256500.0             Pensioner   \n",
       "314380               Y             0          157500.0  Commercial associate   \n",
       "...                ...           ...               ...                   ...   \n",
       "594777               Y             0          126000.0  Commercial associate   \n",
       "594681               Y             0          238500.0             Pensioner   \n",
       "170764               N             0          240750.0         State servant   \n",
       "762655               N             1          135000.0  Commercial associate   \n",
       "148678               Y             1          180000.0               Working   \n",
       "\n",
       "        ... NAME_FAMILY_STATUS    NAME_HOUSING_TYPE DAYS_BIRTH  DAYS_EMPLOYED  \\\n",
       "513210  ...            Married    House / apartment     -21797         365243   \n",
       "532723  ...     Civil marriage    House / apartment     -23094         365243   \n",
       "486463  ...            Married  Municipal apartment     -15447          -2470   \n",
       "291376  ...            Married    House / apartment     -21913         365243   \n",
       "314380  ...          Separated         With parents     -19523           -259   \n",
       "...     ...                ...                  ...        ...            ...   \n",
       "594777  ...            Married    House / apartment     -15972          -1051   \n",
       "594681  ...            Married     Office apartment     -25152         365243   \n",
       "170764  ...     Civil marriage         With parents     -17693          -7778   \n",
       "762655  ...            Married         With parents     -13689          -1172   \n",
       "148678  ...            Married    House / apartment     -11608          -2430   \n",
       "\n",
       "        FLAG_MOBIL  FLAG_WORK_PHONE  FLAG_PHONE  FLAG_EMAIL  \\\n",
       "513210           1                0           0           0   \n",
       "532723           1                0           1           0   \n",
       "486463           1                1           0           0   \n",
       "291376           1                0           1           0   \n",
       "314380           1                0           0           0   \n",
       "...            ...              ...         ...         ...   \n",
       "594777           1                0           0           0   \n",
       "594681           1                0           0           0   \n",
       "170764           1                0           0           0   \n",
       "762655           1                0           0           0   \n",
       "148678           1                0           0           0   \n",
       "\n",
       "              OCCUPATION_TYPE CNT_FAM_MEMBERS  \n",
       "513210                    NaN             2.0  \n",
       "532723                    NaN             2.0  \n",
       "486463            Sales staff             5.0  \n",
       "291376                    NaN             2.0  \n",
       "314380                    NaN             1.0  \n",
       "...                       ...             ...  \n",
       "594777  High skill tech staff             2.0  \n",
       "594681                    NaN             2.0  \n",
       "170764               Laborers             2.0  \n",
       "762655            Sales staff             3.0  \n",
       "148678               Laborers             3.0  \n",
       "\n",
       "[157805 rows x 21 columns]"
      ],
      "text/html": "<div>\n<style scoped>\n    .dataframe tbody tr th:only-of-type {\n        vertical-align: middle;\n    }\n\n    .dataframe tbody tr th {\n        vertical-align: top;\n    }\n\n    .dataframe thead th {\n        text-align: right;\n    }\n</style>\n<table border=\"1\" class=\"dataframe\">\n  <thead>\n    <tr style=\"text-align: right;\">\n      <th></th>\n      <th>Unnamed: 0</th>\n      <th>ID</th>\n      <th>MONTHS_BALANCE</th>\n      <th>STATUS</th>\n      <th>CODE_GENDER</th>\n      <th>FLAG_OWN_CAR</th>\n      <th>FLAG_OWN_REALTY</th>\n      <th>CNT_CHILDREN</th>\n      <th>AMT_INCOME_TOTAL</th>\n      <th>NAME_INCOME_TYPE</th>\n      <th>...</th>\n      <th>NAME_FAMILY_STATUS</th>\n      <th>NAME_HOUSING_TYPE</th>\n      <th>DAYS_BIRTH</th>\n      <th>DAYS_EMPLOYED</th>\n      <th>FLAG_MOBIL</th>\n      <th>FLAG_WORK_PHONE</th>\n      <th>FLAG_PHONE</th>\n      <th>FLAG_EMAIL</th>\n      <th>OCCUPATION_TYPE</th>\n      <th>CNT_FAM_MEMBERS</th>\n    </tr>\n  </thead>\n  <tbody>\n    <tr>\n      <th>513210</th>\n      <td>513210</td>\n      <td>5100075</td>\n      <td>-36</td>\n      <td>1</td>\n      <td>F</td>\n      <td>Y</td>\n      <td>Y</td>\n      <td>0</td>\n      <td>112500.0</td>\n      <td>Pensioner</td>\n      <td>...</td>\n      <td>Married</td>\n      <td>House / apartment</td>\n      <td>-21797</td>\n      <td>365243</td>\n      <td>1</td>\n      <td>0</td>\n      <td>0</td>\n      <td>0</td>\n      <td>NaN</td>\n      <td>2.0</td>\n    </tr>\n    <tr>\n      <th>532723</th>\n      <td>532723</td>\n      <td>5105565</td>\n      <td>-54</td>\n      <td>-1</td>\n      <td>M</td>\n      <td>N</td>\n      <td>Y</td>\n      <td>0</td>\n      <td>135000.0</td>\n      <td>Pensioner</td>\n      <td>...</td>\n      <td>Civil marriage</td>\n      <td>House / apartment</td>\n      <td>-23094</td>\n      <td>365243</td>\n      <td>1</td>\n      <td>0</td>\n      <td>1</td>\n      <td>0</td>\n      <td>NaN</td>\n      <td>2.0</td>\n    </tr>\n    <tr>\n      <th>486463</th>\n      <td>486463</td>\n      <td>5095815</td>\n      <td>-43</td>\n      <td>1</td>\n      <td>F</td>\n      <td>N</td>\n      <td>N</td>\n      <td>3</td>\n      <td>112500.0</td>\n      <td>Working</td>\n      <td>...</td>\n      <td>Married</td>\n      <td>Municipal apartment</td>\n      <td>-15447</td>\n      <td>-2470</td>\n      <td>1</td>\n      <td>1</td>\n      <td>0</td>\n      <td>0</td>\n      <td>Sales staff</td>\n      <td>5.0</td>\n    </tr>\n    <tr>\n      <th>291376</th>\n      <td>291376</td>\n      <td>5061068</td>\n      <td>-5</td>\n      <td>-1</td>\n      <td>M</td>\n      <td>Y</td>\n      <td>N</td>\n      <td>0</td>\n      <td>256500.0</td>\n      <td>Pensioner</td>\n      <td>...</td>\n      <td>Married</td>\n      <td>House / apartment</td>\n      <td>-21913</td>\n      <td>365243</td>\n      <td>1</td>\n      <td>0</td>\n      <td>1</td>\n      <td>0</td>\n      <td>NaN</td>\n      <td>2.0</td>\n    </tr>\n    <tr>\n      <th>314380</th>\n      <td>314380</td>\n      <td>5062123</td>\n      <td>-1</td>\n      <td>-1</td>\n      <td>F</td>\n      <td>N</td>\n      <td>Y</td>\n      <td>0</td>\n      <td>157500.0</td>\n      <td>Commercial associate</td>\n      <td>...</td>\n      <td>Separated</td>\n      <td>With parents</td>\n      <td>-19523</td>\n      <td>-259</td>\n      <td>1</td>\n      <td>0</td>\n      <td>0</td>\n      <td>0</td>\n      <td>NaN</td>\n      <td>1.0</td>\n    </tr>\n    <tr>\n      <th>...</th>\n      <td>...</td>\n      <td>...</td>\n      <td>...</td>\n      <td>...</td>\n      <td>...</td>\n      <td>...</td>\n      <td>...</td>\n      <td>...</td>\n      <td>...</td>\n      <td>...</td>\n      <td>...</td>\n      <td>...</td>\n      <td>...</td>\n      <td>...</td>\n      <td>...</td>\n      <td>...</td>\n      <td>...</td>\n      <td>...</td>\n      <td>...</td>\n      <td>...</td>\n      <td>...</td>\n    </tr>\n    <tr>\n      <th>594777</th>\n      <td>594777</td>\n      <td>5116236</td>\n      <td>-12</td>\n      <td>1</td>\n      <td>M</td>\n      <td>N</td>\n      <td>Y</td>\n      <td>0</td>\n      <td>126000.0</td>\n      <td>Commercial associate</td>\n      <td>...</td>\n      <td>Married</td>\n      <td>House / apartment</td>\n      <td>-15972</td>\n      <td>-1051</td>\n      <td>1</td>\n      <td>0</td>\n      <td>0</td>\n      <td>0</td>\n      <td>High skill tech staff</td>\n      <td>2.0</td>\n    </tr>\n    <tr>\n      <th>594681</th>\n      <td>594681</td>\n      <td>5116226</td>\n      <td>-34</td>\n      <td>1</td>\n      <td>M</td>\n      <td>Y</td>\n      <td>Y</td>\n      <td>0</td>\n      <td>238500.0</td>\n      <td>Pensioner</td>\n      <td>...</td>\n      <td>Married</td>\n      <td>Office apartment</td>\n      <td>-25152</td>\n      <td>365243</td>\n      <td>1</td>\n      <td>0</td>\n      <td>0</td>\n      <td>0</td>\n      <td>NaN</td>\n      <td>2.0</td>\n    </tr>\n    <tr>\n      <th>170764</th>\n      <td>170764</td>\n      <td>5038688</td>\n      <td>-26</td>\n      <td>-1</td>\n      <td>F</td>\n      <td>Y</td>\n      <td>N</td>\n      <td>0</td>\n      <td>240750.0</td>\n      <td>State servant</td>\n      <td>...</td>\n      <td>Civil marriage</td>\n      <td>With parents</td>\n      <td>-17693</td>\n      <td>-7778</td>\n      <td>1</td>\n      <td>0</td>\n      <td>0</td>\n      <td>0</td>\n      <td>Laborers</td>\n      <td>2.0</td>\n    </tr>\n    <tr>\n      <th>762655</th>\n      <td>762655</td>\n      <td>5149393</td>\n      <td>-1</td>\n      <td>1</td>\n      <td>F</td>\n      <td>N</td>\n      <td>N</td>\n      <td>1</td>\n      <td>135000.0</td>\n      <td>Commercial associate</td>\n      <td>...</td>\n      <td>Married</td>\n      <td>With parents</td>\n      <td>-13689</td>\n      <td>-1172</td>\n      <td>1</td>\n      <td>0</td>\n      <td>0</td>\n      <td>0</td>\n      <td>Sales staff</td>\n      <td>3.0</td>\n    </tr>\n    <tr>\n      <th>148678</th>\n      <td>148678</td>\n      <td>5033920</td>\n      <td>-32</td>\n      <td>-1</td>\n      <td>M</td>\n      <td>Y</td>\n      <td>Y</td>\n      <td>1</td>\n      <td>180000.0</td>\n      <td>Working</td>\n      <td>...</td>\n      <td>Married</td>\n      <td>House / apartment</td>\n      <td>-11608</td>\n      <td>-2430</td>\n      <td>1</td>\n      <td>0</td>\n      <td>0</td>\n      <td>0</td>\n      <td>Laborers</td>\n      <td>3.0</td>\n    </tr>\n  </tbody>\n</table>\n<p>157805 rows × 21 columns</p>\n</div>"
     },
     "metadata": {},
     "execution_count": 6
    }
   ],
   "source": [
    "test_no_zeros = pd.read_pickle(\"model_evaluation/test.pkl\")\n",
    "test_no_zeros.drop(test_no_zeros[test_no_zeros[\"STATUS\"] == 0].index, inplace=True)\n",
    "test_no_zeros"
   ]
  },
  {
   "cell_type": "code",
   "execution_count": 9,
   "metadata": {},
   "outputs": [
    {
     "output_type": "execute_result",
     "data": {
      "text/plain": [
       "( 1    247116\n",
       " -1    218166\n",
       " -2      6581\n",
       " -6      1129\n",
       " -3       613\n",
       " -4       203\n",
       " -5       152\n",
       " Name: STATUS, dtype: int64,\n",
       "  1    82420\n",
       " -1    72488\n",
       " -2     2166\n",
       " -6      398\n",
       " -3      188\n",
       " -4       83\n",
       " -5       62\n",
       " Name: STATUS, dtype: int64)"
      ]
     },
     "metadata": {},
     "execution_count": 9
    }
   ],
   "source": [
    "train_status_counts = train_no_zeros[\"STATUS\"].value_counts()\n",
    "test_status_counts = test_no_zeros[\"STATUS\"].value_counts()\n",
    "train_status_counts, test_status_counts"
   ]
  },
  {
   "cell_type": "code",
   "execution_count": 12,
   "metadata": {},
   "outputs": [
    {
     "output_type": "error",
     "ename": "NameError",
     "evalue": "name 'predictors' is not defined",
     "traceback": [
      "\u001b[1;31m---------------------------------------------------------------------------\u001b[0m",
      "\u001b[1;31mNameError\u001b[0m                                 Traceback (most recent call last)",
      "\u001b[1;32m<ipython-input-12-d7e0df98d59a>\u001b[0m in \u001b[0;36m<module>\u001b[1;34m\u001b[0m\n\u001b[0;32m      2\u001b[0m \u001b[1;33m\u001b[0m\u001b[0m\n\u001b[0;32m      3\u001b[0m \u001b[0mstart\u001b[0m \u001b[1;33m=\u001b[0m \u001b[0mtime\u001b[0m\u001b[1;33m.\u001b[0m\u001b[0mtime\u001b[0m\u001b[1;33m(\u001b[0m\u001b[1;33m)\u001b[0m\u001b[1;33m\u001b[0m\u001b[1;33m\u001b[0m\u001b[0m\n\u001b[1;32m----> 4\u001b[1;33m \u001b[0mcred_tree_no_zeros\u001b[0m \u001b[1;33m=\u001b[0m \u001b[0mDecisionTree\u001b[0m\u001b[1;33m(\u001b[0m\u001b[0mtrain_status_counts\u001b[0m\u001b[1;33m[\u001b[0m\u001b[1;33m-\u001b[0m\u001b[1;36m6\u001b[0m\u001b[1;33m]\u001b[0m\u001b[1;33m,\u001b[0m \u001b[1;36m0.8\u001b[0m\u001b[1;33m)\u001b[0m\u001b[1;33m.\u001b[0m\u001b[0mfit\u001b[0m\u001b[1;33m(\u001b[0m\u001b[0mpredictors\u001b[0m\u001b[1;33m,\u001b[0m \u001b[0mtarget\u001b[0m\u001b[1;33m=\u001b[0m\u001b[1;34m\"STATUS\"\u001b[0m\u001b[1;33m,\u001b[0m \u001b[0mdata\u001b[0m\u001b[1;33m=\u001b[0m\u001b[0mtrain\u001b[0m\u001b[1;33m)\u001b[0m\u001b[1;33m\u001b[0m\u001b[1;33m\u001b[0m\u001b[0m\n\u001b[0m\u001b[0;32m      5\u001b[0m \u001b[0mtraining_time\u001b[0m \u001b[1;33m=\u001b[0m \u001b[0mtime\u001b[0m\u001b[1;33m.\u001b[0m\u001b[0mtime\u001b[0m\u001b[1;33m(\u001b[0m\u001b[1;33m)\u001b[0m \u001b[1;33m-\u001b[0m \u001b[0mstart\u001b[0m\u001b[1;33m\u001b[0m\u001b[1;33m\u001b[0m\u001b[0m\n\u001b[0;32m      6\u001b[0m \u001b[1;33m\u001b[0m\u001b[0m\n",
      "\u001b[1;31mNameError\u001b[0m: name 'predictors' is not defined"
     ]
    }
   ],
   "source": [
    "predictors = [\n",
    "    \"CODE_GENDER\",\n",
    "    \"FLAG_OWN_CAR\",\n",
    "    \"FLAG_OWN_REALTY\",\n",
    "    \"CNT_CHILDREN\",\n",
    "    \"AMT_INCOME_TOTAL\",\n",
    "    \"NAME_INCOME_TYPE\",\n",
    "    \"NAME_EDUCATION_TYPE\",\n",
    "    \"NAME_FAMILY_STATUS\",\n",
    "    \"NAME_HOUSING_TYPE\",\n",
    "    \"DAYS_BIRTH\",\n",
    "    \"DAYS_EMPLOYED\",\n",
    "    \"FLAG_MOBIL\",\n",
    "    \"FLAG_WORK_PHONE\",\n",
    "    \"FLAG_PHONE\",\n",
    "    \"FLAG_EMAIL\",\n",
    "    \"OCCUPATION_TYPE\",\n",
    "    \"CNT_FAM_MEMBERS\"\n",
    "]\n",
    "\n",
    "import time\n",
    "\n",
    "start = time.time()\n",
    "cred_tree_no_zeros = DecisionTree(train_status_counts[-6], 0.8).fit(predictors, target=\"STATUS\", data=train_no_zeros)\n",
    "training_time = time.time() - start\n",
    "\n",
    "print(\"\\n\", f\"time to train: {training_time}\", f\"num nodes: {len(cred_tree_no_zeros.leaf_nodes_)}\", sep=\"\\n\")"
   ]
  },
  {
   "cell_type": "code",
   "execution_count": null,
   "metadata": {},
   "outputs": [],
   "source": [
    "for i, leaf_node_df in enumerate(cred_tree_no_zeros.leaf_nodes_):\n",
    "    leaf_node_df.to_pickle(f\"leaf_nodes_no_zeros_pkls/zeroless_node_{i}.pkl\")"
   ]
  },
  {
   "cell_type": "code",
   "execution_count": null,
   "metadata": {},
   "outputs": [],
   "source": [
    "by_ID = test_no_zeros.groupby(\"ID\")\n",
    "test_by_ID = pd.DataFrame([\n",
    "    group.iloc[0, :]\n",
    "    for name, group in by_ID\n",
    "])\n",
    "test_by_ID"
   ]
  },
  {
   "cell_type": "code",
   "execution_count": null,
   "metadata": {},
   "outputs": [],
   "source": [
    "test_by_ID.set_index(\"ID\", inplace=True)\n",
    "test_by_ID"
   ]
  },
  {
   "cell_type": "code",
   "execution_count": null,
   "metadata": {},
   "outputs": [],
   "source": [
    "cluster_preds = cred_tree_no_zeros.predict(test_by_ID)\n",
    "cluster_preds"
   ]
  },
  {
   "cell_type": "code",
   "execution_count": null,
   "metadata": {},
   "outputs": [],
   "source": [
    "cluster_preds_no_zeros.to_pickle(\"model_evaluation/cluster_preds_no_zeros.pkl\")"
   ]
  },
  {
   "cell_type": "code",
   "execution_count": null,
   "metadata": {},
   "outputs": [],
   "source": [
    "\n",
    "def calculate_pmf(df):\n",
    "    pmf = pd.Series(0, index=[-6,-5,-4,-3,-2,-1,1])\n",
    "    counts = df[\"STATUS\"].value_counts()\n",
    "    pmf[counts.index] = counts / df.shape[0]\n",
    "    return pmf\n",
    "\n",
    "pred_pmfs = pd.DataFrame(\n",
    "    [\n",
    "        calculate_pmf(cred_tree_no_zeros.leaf_nodes_[clust])\n",
    "        for clust in cluster_preds_no_zeros.loc[:, 0]\n",
    "    ],\n",
    "    index=cluster_preds_no_zeros.index\n",
    ")\n",
    "actual_pmfs = by_ID.apply(calculate_pmf)"
   ]
  },
  {
   "cell_type": "code",
   "execution_count": null,
   "metadata": {},
   "outputs": [],
   "source": [
    "pred_pmfs.shape, actual_pmfs.shape"
   ]
  },
  {
   "cell_type": "code",
   "execution_count": null,
   "metadata": {},
   "outputs": [],
   "source": [
    "pred_pmfs.to_pickle(\"model_evaluation/pred_pmfs_no_zeros.pkl\")\n",
    "actual_pmfs.to_pickle(\"model_evaluation/actual_pmfs_no_zeros.pkl\")"
   ]
  },
  {
   "cell_type": "code",
   "execution_count": null,
   "metadata": {},
   "outputs": [],
   "source": [
    "pred_pmfs.index.equals(actual_pmfs.index)"
   ]
  },
  {
   "cell_type": "code",
   "execution_count": null,
   "metadata": {},
   "outputs": [],
   "source": [
    "mean_abs_error = (pred_pmfs - actual_pmfs).abs().mean(axis=0)\n",
    "mean_abs_error"
   ]
  },
  {
   "cell_type": "code",
   "execution_count": null,
   "metadata": {},
   "outputs": [],
   "source": [
    "mean_abs_error"
   ]
  }
 ]
}